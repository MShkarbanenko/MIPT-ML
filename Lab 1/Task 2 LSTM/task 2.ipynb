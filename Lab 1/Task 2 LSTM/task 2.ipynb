{
 "cells": [
  {
   "cell_type": "markdown",
   "metadata": {},
   "source": [
    "# Шкарбаненко Михаил,  Б05-907"
   ]
  },
  {
   "attachments": {},
   "cell_type": "markdown",
   "metadata": {},
   "source": [
    "# Задача 2. Анализ модели LSTM\n",
    "\n",
    "Провести анализ качества аппроксимации выборки NERUS (предсказание POS tag для токенов) моделью LSTM в зависимости от:\n",
    "\n",
    "* размера слоя;\n",
    "\n",
    "* числа слоев;\n",
    "\n",
    "* параметра dropout;\n",
    "\n",
    "* добавления BatchNorm;\n",
    "\n",
    "* размера словаря;\n",
    "\n",
    "* токенизатора - дополнительное задание (со звездочкой)."
   ]
  },
  {
   "attachments": {},
   "cell_type": "markdown",
   "metadata": {},
   "source": [
    "## 1. Подготовительная часть"
   ]
  },
  {
   "attachments": {},
   "cell_type": "markdown",
   "metadata": {},
   "source": [
    "### 1.1 Библиотеки"
   ]
  },
  {
   "cell_type": "code",
   "execution_count": 85,
   "metadata": {},
   "outputs": [
    {
     "name": "stdout",
     "output_type": "stream",
     "text": [
      "Requirement already satisfied: nerus in /Users/mikhail/opt/anaconda3/lib/python3.9/site-packages (1.7.0)\n"
     ]
    }
   ],
   "source": [
    "! pip install nerus"
   ]
  },
  {
   "cell_type": "code",
   "execution_count": 86,
   "metadata": {},
   "outputs": [],
   "source": [
    "import warnings\n",
    "warnings.filterwarnings(\"ignore\")"
   ]
  },
  {
   "cell_type": "code",
   "execution_count": 87,
   "metadata": {},
   "outputs": [],
   "source": [
    "from copy import deepcopy\n",
    "\n",
    "import matplotlib.pyplot as plt\n",
    "from matplotlib.image import imread\n",
    "from mpl_toolkits import mplot3d\n",
    "from matplotlib import gridspec\n",
    "from PIL import Image\n",
    "import io\n",
    "import os\n",
    "from urllib.request import urlopen\n",
    "from skimage.segmentation import mark_boundaries\n",
    "from nltk.tokenize import RegexpTokenizer\n",
    "\n",
    "from tqdm.notebook import tqdm\n",
    "import numpy as np\n",
    "import pandas as pd\n",
    "import requests\n",
    "from scipy.stats import norm\n",
    "import torch\n",
    "\n",
    "from sklearn.metrics import classification_report\n",
    "from sklearn.model_selection import train_test_split\n",
    "\n",
    "from torch.utils.tensorboard import SummaryWriter\n",
    "from torch.utils.data import Dataset, DataLoader\n",
    "from torch.nn.utils.rnn import pad_sequence\n",
    "\n",
    "from torchvision import datasets, transforms\n",
    "from nerus import load_nerus"
   ]
  },
  {
   "attachments": {},
   "cell_type": "markdown",
   "metadata": {},
   "source": [
    "### 1.2 Девайс"
   ]
  },
  {
   "cell_type": "code",
   "execution_count": 88,
   "metadata": {},
   "outputs": [],
   "source": [
    "device = torch.device(\"cpu\")"
   ]
  },
  {
   "attachments": {},
   "cell_type": "markdown",
   "metadata": {},
   "source": [
    "### 1.3 Токенизатор"
   ]
  },
  {
   "attachments": {},
   "cell_type": "markdown",
   "metadata": {},
   "source": [
    "Используется биективная токенизация слов и тэгов в подмножество натуральных чисел."
   ]
  },
  {
   "cell_type": "code",
   "execution_count": 89,
   "metadata": {},
   "outputs": [
    {
     "data": {
      "text/plain": [
       "NerusDoc(\n",
       "    id='0',\n",
       "    sents=[NerusSent(\n",
       "         id='0_0',\n",
       "         text='Вице-премьер по социальным вопросам Татьяна Голикова рассказала, в каких регионах России зафиксирована наиболее высокая смертность от рака, сообщает РИА Новости.',\n",
       "         tokens=[NerusToken(\n",
       "              id='1',\n",
       "              text='Вице-премьер',\n",
       "              pos='NOUN',\n",
       "              feats={'Animacy': 'Anim',\n",
       "               'Case': 'Nom',\n",
       "               'Gender': 'Masc',\n",
       "               'Number': 'Sing'},\n",
       "              head_id='7',\n",
       "              rel='nsubj',\n",
       "              tag='O'\n",
       "          ),\n",
       "          NerusToken(\n",
       "              id='2',\n",
       "              text='по',\n",
       "              pos='ADP',\n",
       "              feats={},\n",
       "              head_id='4',\n",
       "              rel='case',\n",
       "              tag='O'\n",
       "          ),\n",
       "          NerusToken(\n",
       "              id='3',\n",
       "              text='социальным',\n",
       "              pos='ADJ',\n",
       "              feats={'Case': 'Dat',\n",
       "               'Degree': 'Pos',\n",
       "               'Number': 'Plur'},\n",
       "              head_id='4',\n",
       "              rel='amod',\n",
       "              tag='O'\n",
       "          ),\n",
       "          NerusToken(\n",
       "              id='4',\n",
       "              text='вопросам',\n",
       "              pos='NOUN',\n",
       "              feats={'Animacy': 'Inan',\n",
       "               'Case': 'Dat',\n",
       "               'Gender': 'Masc',\n",
       "               'Number': 'Plur'},\n",
       "              head_id='1',\n",
       "              rel='nmod',\n",
       "              tag='O'\n",
       "          ),\n",
       "          NerusToken(\n",
       "              id='5',\n",
       "              text='Татьяна',\n",
       "              pos='PROPN',\n",
       "              feats={'Animacy': 'Anim',\n",
       "               'Case': 'Nom',\n",
       "               'Gender': 'Fem',\n",
       "               'Number': 'Sing'},\n",
       "              head_id='1',\n",
       "              rel='appos',\n",
       "              tag='B-PER'\n",
       "          ),\n",
       "          NerusToken(\n",
       "              id='6',\n",
       "              text='Голикова',\n",
       "              pos='PROPN',\n",
       "              feats={'Animacy': 'Anim',\n",
       "               'Case': 'Nom',\n",
       "               'Gender': 'Fem',\n",
       "               'Number': 'Sing'},\n",
       "              head_id='5',\n",
       "              rel='flat:name',\n",
       "              tag='I-PER'\n",
       "          ),\n",
       "          NerusToken(\n",
       "              id='7',\n",
       "              text='рассказала',\n",
       "              pos='VERB',\n",
       "              feats={'Aspect': 'Perf',\n",
       "               'Gender': 'Fem',\n",
       "               'Mood': 'Ind',\n",
       "               'Number': 'Sing',\n",
       "               'Tense': 'Past',\n",
       "               'VerbForm': 'Fin',\n",
       "               'Voice': 'Act'},\n",
       "              head_id='0',\n",
       "              rel='root',\n",
       "              tag='O'\n",
       "          ),\n",
       "          NerusToken(\n",
       "              id='8',\n",
       "              text=',',\n",
       "              pos='PUNCT',\n",
       "              feats={},\n",
       "              head_id='13',\n",
       "              rel='punct',\n",
       "              tag='O'\n",
       "          ),\n",
       "          NerusToken(\n",
       "              id='9',\n",
       "              text='в',\n",
       "              pos='ADP',\n",
       "              feats={},\n",
       "              head_id='11',\n",
       "              rel='case',\n",
       "              tag='O'\n",
       "          ),\n",
       "          NerusToken(\n",
       "              id='10',\n",
       "              text='каких',\n",
       "              pos='DET',\n",
       "              feats={'Case': 'Loc',\n",
       "               'Number': 'Plur'},\n",
       "              head_id='11',\n",
       "              rel='det',\n",
       "              tag='O'\n",
       "          ),\n",
       "          NerusToken(\n",
       "              id='11',\n",
       "              text='регионах',\n",
       "              pos='NOUN',\n",
       "              feats={'Animacy': 'Inan',\n",
       "               'Case': 'Loc',\n",
       "               'Gender': 'Masc',\n",
       "               'Number': 'Plur'},\n",
       "              head_id='13',\n",
       "              rel='obl',\n",
       "              tag='O'\n",
       "          ),\n",
       "          NerusToken(\n",
       "              id='12',\n",
       "              text='России',\n",
       "              pos='PROPN',\n",
       "              feats={'Animacy': 'Inan',\n",
       "               'Case': 'Gen',\n",
       "               'Gender': 'Fem',\n",
       "               'Number': 'Sing'},\n",
       "              head_id='11',\n",
       "              rel='nmod',\n",
       "              tag='B-LOC'\n",
       "          ),\n",
       "          NerusToken(\n",
       "              id='13',\n",
       "              text='зафиксирована',\n",
       "              pos='VERB',\n",
       "              feats={'Aspect': 'Perf',\n",
       "               'Gender': 'Fem',\n",
       "               'Number': 'Sing',\n",
       "               'Tense': 'Past',\n",
       "               'Variant': 'Short',\n",
       "               'VerbForm': 'Part',\n",
       "               'Voice': 'Pass'},\n",
       "              head_id='7',\n",
       "              rel='ccomp',\n",
       "              tag='O'\n",
       "          ),\n",
       "          NerusToken(\n",
       "              id='14',\n",
       "              text='наиболее',\n",
       "              pos='ADV',\n",
       "              feats={'Degree': 'Pos'},\n",
       "              head_id='15',\n",
       "              rel='advmod',\n",
       "              tag='O'\n",
       "          ),\n",
       "          NerusToken(\n",
       "              id='15',\n",
       "              text='высокая',\n",
       "              pos='ADJ',\n",
       "              feats={'Case': 'Nom',\n",
       "               'Degree': 'Pos',\n",
       "               'Gender': 'Fem',\n",
       "               'Number': 'Sing'},\n",
       "              head_id='16',\n",
       "              rel='amod',\n",
       "              tag='O'\n",
       "          ),\n",
       "          NerusToken(\n",
       "              id='16',\n",
       "              text='смертность',\n",
       "              pos='NOUN',\n",
       "              feats={'Animacy': 'Inan',\n",
       "               'Case': 'Nom',\n",
       "               'Gender': 'Fem',\n",
       "               'Number': 'Sing'},\n",
       "              head_id='13',\n",
       "              rel='nsubj:pass',\n",
       "              tag='O'\n",
       "          ),\n",
       "          NerusToken(\n",
       "              id='17',\n",
       "              text='от',\n",
       "              pos='ADP',\n",
       "              feats={},\n",
       "              head_id='18',\n",
       "              rel='case',\n",
       "              tag='O'\n",
       "          ),\n",
       "          NerusToken(\n",
       "              id='18',\n",
       "              text='рака',\n",
       "              pos='NOUN',\n",
       "              feats={'Animacy': 'Inan',\n",
       "               'Case': 'Gen',\n",
       "               'Gender': 'Masc',\n",
       "               'Number': 'Sing'},\n",
       "              head_id='16',\n",
       "              rel='nmod',\n",
       "              tag='O'\n",
       "          ),\n",
       "          NerusToken(\n",
       "              id='19',\n",
       "              text=',',\n",
       "              pos='PUNCT',\n",
       "              feats={},\n",
       "              head_id='20',\n",
       "              rel='punct',\n",
       "              tag='O'\n",
       "          ),\n",
       "          NerusToken(\n",
       "              id='20',\n",
       "              text='сообщает',\n",
       "              pos='VERB',\n",
       "              feats={'Aspect': 'Imp',\n",
       "               'Mood': 'Ind',\n",
       "               'Number': 'Sing',\n",
       "               'Person': '3',\n",
       "               'Tense': 'Pres',\n",
       "               'VerbForm': 'Fin',\n",
       "               'Voice': 'Act'},\n",
       "              head_id='0',\n",
       "              rel='root',\n",
       "              tag='O'\n",
       "          ),\n",
       "          NerusToken(\n",
       "              id='21',\n",
       "              text='РИА',\n",
       "              pos='PROPN',\n",
       "              feats={'Animacy': 'Inan',\n",
       "               'Case': 'Nom',\n",
       "               'Gender': 'Neut',\n",
       "               'Number': 'Sing'},\n",
       "              head_id='20',\n",
       "              rel='nsubj',\n",
       "              tag='B-ORG'\n",
       "          ),\n",
       "          NerusToken(\n",
       "              id='22',\n",
       "              text='Новости',\n",
       "              pos='PROPN',\n",
       "              feats={'Animacy': 'Inan',\n",
       "               'Case': 'Nom',\n",
       "               'Gender': 'Fem',\n",
       "               'Number': 'Plur'},\n",
       "              head_id='21',\n",
       "              rel='appos',\n",
       "              tag='I-ORG'\n",
       "          ),\n",
       "          NerusToken(\n",
       "              id='23',\n",
       "              text='.',\n",
       "              pos='PUNCT',\n",
       "              feats={},\n",
       "              head_id='20',\n",
       "              rel='punct',\n",
       "              tag='O'\n",
       "          )]\n",
       "     ),\n",
       "     NerusSent(\n",
       "         id='0_1',\n",
       "         text='По словам Голиковой, чаще всего онкологические заболевания становились причиной смерти в Псковской, Тверской, Тульской и Орловской областях, а также в Севастополе.',\n",
       "         tokens=[NerusToken(\n",
       "              id='1',\n",
       "              text='По',\n",
       "              pos='ADP',\n",
       "              feats={},\n",
       "              head_id='2',\n",
       "              rel='case',\n",
       "              tag='O'\n",
       "          ),\n",
       "          NerusToken(\n",
       "              id='2',\n",
       "              text='словам',\n",
       "              pos='NOUN',\n",
       "              feats={'Animacy': 'Inan',\n",
       "               'Case': 'Dat',\n",
       "               'Gender': 'Neut',\n",
       "               'Number': 'Plur'},\n",
       "              head_id='9',\n",
       "              rel='parataxis',\n",
       "              tag='O'\n",
       "          ),\n",
       "          NerusToken(\n",
       "              id='3',\n",
       "              text='Голиковой',\n",
       "              pos='PROPN',\n",
       "              feats={'Animacy': 'Anim',\n",
       "               'Case': 'Gen',\n",
       "               'Gender': 'Fem',\n",
       "               'Number': 'Sing'},\n",
       "              head_id='2',\n",
       "              rel='nmod',\n",
       "              tag='B-PER'\n",
       "          ),\n",
       "          NerusToken(\n",
       "              id='4',\n",
       "              text=',',\n",
       "              pos='PUNCT',\n",
       "              feats={},\n",
       "              head_id='2',\n",
       "              rel='punct',\n",
       "              tag='O'\n",
       "          ),\n",
       "          NerusToken(\n",
       "              id='5',\n",
       "              text='чаще',\n",
       "              pos='ADV',\n",
       "              feats={'Degree': 'Cmp'},\n",
       "              head_id='9',\n",
       "              rel='advmod',\n",
       "              tag='O'\n",
       "          ),\n",
       "          NerusToken(\n",
       "              id='6',\n",
       "              text='всего',\n",
       "              pos='PRON',\n",
       "              feats={'Animacy': 'Inan',\n",
       "               'Case': 'Gen',\n",
       "               'Gender': 'Neut',\n",
       "               'Number': 'Sing'},\n",
       "              head_id='5',\n",
       "              rel='obl',\n",
       "              tag='O'\n",
       "          ),\n",
       "          NerusToken(\n",
       "              id='7',\n",
       "              text='онкологические',\n",
       "              pos='ADJ',\n",
       "              feats={'Case': 'Nom',\n",
       "               'Degree': 'Pos',\n",
       "               'Number': 'Plur'},\n",
       "              head_id='8',\n",
       "              rel='amod',\n",
       "              tag='O'\n",
       "          ),\n",
       "          NerusToken(\n",
       "              id='8',\n",
       "              text='заболевания',\n",
       "              pos='NOUN',\n",
       "              feats={'Animacy': 'Inan',\n",
       "               'Case': 'Nom',\n",
       "               'Gender': 'Neut',\n",
       "               'Number': 'Plur'},\n",
       "              head_id='9',\n",
       "              rel='nsubj',\n",
       "              tag='O'\n",
       "          ),\n",
       "          NerusToken(\n",
       "              id='9',\n",
       "              text='становились',\n",
       "              pos='VERB',\n",
       "              feats={'Aspect': 'Imp',\n",
       "               'Mood': 'Ind',\n",
       "               'Number': 'Plur',\n",
       "               'Tense': 'Past',\n",
       "               'VerbForm': 'Fin',\n",
       "               'Voice': 'Mid'},\n",
       "              head_id='0',\n",
       "              rel='root',\n",
       "              tag='O'\n",
       "          ),\n",
       "          NerusToken(\n",
       "              id='10',\n",
       "              text='причиной',\n",
       "              pos='NOUN',\n",
       "              feats={'Animacy': 'Inan',\n",
       "               'Case': 'Ins',\n",
       "               'Gender': 'Fem',\n",
       "               'Number': 'Sing'},\n",
       "              head_id='9',\n",
       "              rel='xcomp',\n",
       "              tag='O'\n",
       "          ),\n",
       "          NerusToken(\n",
       "              id='11',\n",
       "              text='смерти',\n",
       "              pos='NOUN',\n",
       "              feats={'Animacy': 'Inan',\n",
       "               'Case': 'Gen',\n",
       "               'Gender': 'Fem',\n",
       "               'Number': 'Sing'},\n",
       "              head_id='10',\n",
       "              rel='nmod',\n",
       "              tag='O'\n",
       "          ),\n",
       "          NerusToken(\n",
       "              id='12',\n",
       "              text='в',\n",
       "              pos='ADP',\n",
       "              feats={},\n",
       "              head_id='20',\n",
       "              rel='case',\n",
       "              tag='O'\n",
       "          ),\n",
       "          NerusToken(\n",
       "              id='13',\n",
       "              text='Псковской',\n",
       "              pos='ADJ',\n",
       "              feats={'Case': 'Loc',\n",
       "               'Degree': 'Pos',\n",
       "               'Gender': 'Fem',\n",
       "               'Number': 'Sing'},\n",
       "              head_id='20',\n",
       "              rel='amod',\n",
       "              tag='B-LOC'\n",
       "          ),\n",
       "          NerusToken(\n",
       "              id='14',\n",
       "              text=',',\n",
       "              pos='PUNCT',\n",
       "              feats={},\n",
       "              head_id='15',\n",
       "              rel='punct',\n",
       "              tag='O'\n",
       "          ),\n",
       "          NerusToken(\n",
       "              id='15',\n",
       "              text='Тверской',\n",
       "              pos='ADJ',\n",
       "              feats={'Case': 'Loc',\n",
       "               'Degree': 'Pos',\n",
       "               'Gender': 'Fem',\n",
       "               'Number': 'Sing'},\n",
       "              head_id='13',\n",
       "              rel='conj',\n",
       "              tag='B-LOC'\n",
       "          ),\n",
       "          NerusToken(\n",
       "              id='16',\n",
       "              text=',',\n",
       "              pos='PUNCT',\n",
       "              feats={},\n",
       "              head_id='17',\n",
       "              rel='punct',\n",
       "              tag='O'\n",
       "          ),\n",
       "          NerusToken(\n",
       "              id='17',\n",
       "              text='Тульской',\n",
       "              pos='ADJ',\n",
       "              feats={'Case': 'Loc',\n",
       "               'Degree': 'Pos',\n",
       "               'Gender': 'Fem',\n",
       "               'Number': 'Sing'},\n",
       "              head_id='13',\n",
       "              rel='conj',\n",
       "              tag='B-LOC'\n",
       "          ),\n",
       "          NerusToken(\n",
       "              id='18',\n",
       "              text='и',\n",
       "              pos='CCONJ',\n",
       "              feats={},\n",
       "              head_id='19',\n",
       "              rel='cc',\n",
       "              tag='O'\n",
       "          ),\n",
       "          NerusToken(\n",
       "              id='19',\n",
       "              text='Орловской',\n",
       "              pos='ADJ',\n",
       "              feats={'Case': 'Loc',\n",
       "               'Degree': 'Pos',\n",
       "               'Gender': 'Fem',\n",
       "               'Number': 'Sing'},\n",
       "              head_id='13',\n",
       "              rel='conj',\n",
       "              tag='B-LOC'\n",
       "          ),\n",
       "          NerusToken(\n",
       "              id='20',\n",
       "              text='областях',\n",
       "              pos='NOUN',\n",
       "              feats={'Animacy': 'Inan',\n",
       "               'Case': 'Loc',\n",
       "               'Gender': 'Fem',\n",
       "               'Number': 'Plur'},\n",
       "              head_id='9',\n",
       "              rel='obl',\n",
       "              tag='I-LOC'\n",
       "          ),\n",
       "          NerusToken(\n",
       "              id='21',\n",
       "              text=',',\n",
       "              pos='PUNCT',\n",
       "              feats={},\n",
       "              head_id='25',\n",
       "              rel='punct',\n",
       "              tag='O'\n",
       "          ),\n",
       "          NerusToken(\n",
       "              id='22',\n",
       "              text='а',\n",
       "              pos='CCONJ',\n",
       "              feats={},\n",
       "              head_id='25',\n",
       "              rel='cc',\n",
       "              tag='O'\n",
       "          ),\n",
       "          NerusToken(\n",
       "              id='23',\n",
       "              text='также',\n",
       "              pos='ADV',\n",
       "              feats={'Degree': 'Pos'},\n",
       "              head_id='22',\n",
       "              rel='fixed',\n",
       "              tag='O'\n",
       "          ),\n",
       "          NerusToken(\n",
       "              id='24',\n",
       "              text='в',\n",
       "              pos='ADP',\n",
       "              feats={},\n",
       "              head_id='25',\n",
       "              rel='case',\n",
       "              tag='O'\n",
       "          ),\n",
       "          NerusToken(\n",
       "              id='25',\n",
       "              text='Севастополе',\n",
       "              pos='PROPN',\n",
       "              feats={'Animacy': 'Inan',\n",
       "               'Case': 'Loc',\n",
       "               'Gender': 'Masc',\n",
       "               'Number': 'Sing'},\n",
       "              head_id='20',\n",
       "              rel='conj',\n",
       "              tag='B-LOC'\n",
       "          ),\n",
       "          NerusToken(\n",
       "              id='26',\n",
       "              text='.',\n",
       "              pos='PUNCT',\n",
       "              feats={},\n",
       "              head_id='9',\n",
       "              rel='punct',\n",
       "              tag='O'\n",
       "          )]\n",
       "     ),\n",
       "     NerusSent(\n",
       "         id='0_2',\n",
       "         text='Вице-премьер напомнила, что главные факторы смертности в России — рак и болезни системы кровообращения.',\n",
       "         tokens=[NerusToken(\n",
       "              id='1',\n",
       "              text='Вице-премьер',\n",
       "              pos='NOUN',\n",
       "              feats={'Animacy': 'Anim',\n",
       "               'Case': 'Nom',\n",
       "               'Gender': 'Masc',\n",
       "               'Number': 'Sing'},\n",
       "              head_id='2',\n",
       "              rel='nsubj',\n",
       "              tag='O'\n",
       "          ),\n",
       "          NerusToken(\n",
       "              id='2',\n",
       "              text='напомнила',\n",
       "              pos='VERB',\n",
       "              feats={'Aspect': 'Perf',\n",
       "               'Gender': 'Fem',\n",
       "               'Mood': 'Ind',\n",
       "               'Number': 'Sing',\n",
       "               'Tense': 'Past',\n",
       "               'VerbForm': 'Fin',\n",
       "               'Voice': 'Act'},\n",
       "              head_id='0',\n",
       "              rel='root',\n",
       "              tag='O'\n",
       "          ),\n",
       "          NerusToken(\n",
       "              id='3',\n",
       "              text=',',\n",
       "              pos='PUNCT',\n",
       "              feats={},\n",
       "              head_id='11',\n",
       "              rel='punct',\n",
       "              tag='O'\n",
       "          ),\n",
       "          NerusToken(\n",
       "              id='4',\n",
       "              text='что',\n",
       "              pos='SCONJ',\n",
       "              feats={},\n",
       "              head_id='11',\n",
       "              rel='mark',\n",
       "              tag='O'\n",
       "          ),\n",
       "          NerusToken(\n",
       "              id='5',\n",
       "              text='главные',\n",
       "              pos='ADJ',\n",
       "              feats={'Case': 'Nom',\n",
       "               'Degree': 'Pos',\n",
       "               'Number': 'Plur'},\n",
       "              head_id='6',\n",
       "              rel='amod',\n",
       "              tag='O'\n",
       "          ),\n",
       "          NerusToken(\n",
       "              id='6',\n",
       "              text='факторы',\n",
       "              pos='NOUN',\n",
       "              feats={'Animacy': 'Inan',\n",
       "               'Case': 'Nom',\n",
       "               'Gender': 'Masc',\n",
       "               'Number': 'Plur'},\n",
       "              head_id='11',\n",
       "              rel='nsubj',\n",
       "              tag='O'\n",
       "          ),\n",
       "          NerusToken(\n",
       "              id='7',\n",
       "              text='смертности',\n",
       "              pos='NOUN',\n",
       "              feats={'Animacy': 'Inan',\n",
       "               'Case': 'Gen',\n",
       "               'Gender': 'Fem',\n",
       "               'Number': 'Sing'},\n",
       "              head_id='6',\n",
       "              rel='nmod',\n",
       "              tag='O'\n",
       "          ),\n",
       "          NerusToken(\n",
       "              id='8',\n",
       "              text='в',\n",
       "              pos='ADP',\n",
       "              feats={},\n",
       "              head_id='9',\n",
       "              rel='case',\n",
       "              tag='O'\n",
       "          ),\n",
       "          NerusToken(\n",
       "              id='9',\n",
       "              text='России',\n",
       "              pos='PROPN',\n",
       "              feats={'Animacy': 'Inan',\n",
       "               'Case': 'Loc',\n",
       "               'Gender': 'Fem',\n",
       "               'Number': 'Sing'},\n",
       "              head_id='7',\n",
       "              rel='nmod',\n",
       "              tag='B-LOC'\n",
       "          ),\n",
       "          NerusToken(\n",
       "              id='10',\n",
       "              text='—',\n",
       "              pos='PUNCT',\n",
       "              feats={},\n",
       "              head_id='11',\n",
       "              rel='punct',\n",
       "              tag='O'\n",
       "          ),\n",
       "          NerusToken(\n",
       "              id='11',\n",
       "              text='рак',\n",
       "              pos='NOUN',\n",
       "              feats={'Animacy': 'Inan',\n",
       "               'Case': 'Nom',\n",
       "               'Gender': 'Masc',\n",
       "               'Number': 'Sing'},\n",
       "              head_id='6',\n",
       "              rel='nsubj',\n",
       "              tag='O'\n",
       "          ),\n",
       "          NerusToken(\n",
       "              id='12',\n",
       "              text='и',\n",
       "              pos='CCONJ',\n",
       "              feats={},\n",
       "              head_id='13',\n",
       "              rel='cc',\n",
       "              tag='O'\n",
       "          ),\n",
       "          NerusToken(\n",
       "              id='13',\n",
       "              text='болезни',\n",
       "              pos='NOUN',\n",
       "              feats={'Animacy': 'Inan',\n",
       "               'Case': 'Nom',\n",
       "               'Gender': 'Fem',\n",
       "               'Number': 'Plur'},\n",
       "              head_id='11',\n",
       "              rel='conj',\n",
       "              tag='O'\n",
       "          ),\n",
       "          NerusToken(\n",
       "              id='14',\n",
       "              text='системы',\n",
       "              pos='NOUN',\n",
       "              feats={'Animacy': 'Inan',\n",
       "               'Case': 'Gen',\n",
       "               'Gender': 'Fem',\n",
       "               'Number': 'Sing'},\n",
       "              head_id='13',\n",
       "              rel='nmod',\n",
       "              tag='O'\n",
       "          ),\n",
       "          NerusToken(\n",
       "              id='15',\n",
       "              text='кровообращения',\n",
       "              pos='NOUN',\n",
       "              feats={'Animacy': 'Inan',\n",
       "               'Case': 'Gen',\n",
       "               'Gender': 'Neut',\n",
       "               'Number': 'Sing'},\n",
       "              head_id='14',\n",
       "              rel='nmod',\n",
       "              tag='O'\n",
       "          ),\n",
       "          NerusToken(\n",
       "              id='16',\n",
       "              text='.',\n",
       "              pos='PUNCT',\n",
       "              feats={},\n",
       "              head_id='2',\n",
       "              rel='punct',\n",
       "              tag='O'\n",
       "          )]\n",
       "     ),\n",
       "     NerusSent(\n",
       "         id='0_3',\n",
       "         text='В начале года стало известно, что смертность от онкологических заболеваний среди россиян снизилась впервые за три года.',\n",
       "         tokens=[NerusToken(\n",
       "              id='1',\n",
       "              text='В',\n",
       "              pos='ADP',\n",
       "              feats={},\n",
       "              head_id='2',\n",
       "              rel='case',\n",
       "              tag='O'\n",
       "          ),\n",
       "          NerusToken(\n",
       "              id='2',\n",
       "              text='начале',\n",
       "              pos='NOUN',\n",
       "              feats={'Animacy': 'Inan',\n",
       "               'Case': 'Loc',\n",
       "               'Gender': 'Neut',\n",
       "               'Number': 'Sing'},\n",
       "              head_id='4',\n",
       "              rel='obl',\n",
       "              tag='O'\n",
       "          ),\n",
       "          NerusToken(\n",
       "              id='3',\n",
       "              text='года',\n",
       "              pos='NOUN',\n",
       "              feats={'Animacy': 'Inan',\n",
       "               'Case': 'Gen',\n",
       "               'Gender': 'Masc',\n",
       "               'Number': 'Sing'},\n",
       "              head_id='2',\n",
       "              rel='nmod',\n",
       "              tag='O'\n",
       "          ),\n",
       "          NerusToken(\n",
       "              id='4',\n",
       "              text='стало',\n",
       "              pos='VERB',\n",
       "              feats={'Aspect': 'Perf',\n",
       "               'Gender': 'Neut',\n",
       "               'Mood': 'Ind',\n",
       "               'Number': 'Sing',\n",
       "               'Tense': 'Past',\n",
       "               'VerbForm': 'Fin',\n",
       "               'Voice': 'Act'},\n",
       "              head_id='0',\n",
       "              rel='root',\n",
       "              tag='O'\n",
       "          ),\n",
       "          NerusToken(\n",
       "              id='5',\n",
       "              text='известно',\n",
       "              pos='ADJ',\n",
       "              feats={'Degree': 'Pos',\n",
       "               'Gender': 'Neut',\n",
       "               'Number': 'Sing',\n",
       "               'Variant': 'Short'},\n",
       "              head_id='4',\n",
       "              rel='xcomp',\n",
       "              tag='O'\n",
       "          ),\n",
       "          NerusToken(\n",
       "              id='6',\n",
       "              text=',',\n",
       "              pos='PUNCT',\n",
       "              feats={},\n",
       "              head_id='14',\n",
       "              rel='punct',\n",
       "              tag='O'\n",
       "          ),\n",
       "          NerusToken(\n",
       "              id='7',\n",
       "              text='что',\n",
       "              pos='SCONJ',\n",
       "              feats={},\n",
       "              head_id='14',\n",
       "              rel='mark',\n",
       "              tag='O'\n",
       "          ),\n",
       "          NerusToken(\n",
       "              id='8',\n",
       "              text='смертность',\n",
       "              pos='NOUN',\n",
       "              feats={'Animacy': 'Inan',\n",
       "               'Case': 'Nom',\n",
       "               'Gender': 'Fem',\n",
       "               'Number': 'Sing'},\n",
       "              head_id='14',\n",
       "              rel='nsubj',\n",
       "              tag='O'\n",
       "          ),\n",
       "          NerusToken(\n",
       "              id='9',\n",
       "              text='от',\n",
       "              pos='ADP',\n",
       "              feats={},\n",
       "              head_id='11',\n",
       "              rel='case',\n",
       "              tag='O'\n",
       "          ),\n",
       "          NerusToken(\n",
       "              id='10',\n",
       "              text='онкологических',\n",
       "              pos='ADJ',\n",
       "              feats={'Case': 'Gen',\n",
       "               'Degree': 'Pos',\n",
       "               'Number': 'Plur'},\n",
       "              head_id='11',\n",
       "              rel='amod',\n",
       "              tag='O'\n",
       "          ),\n",
       "          NerusToken(\n",
       "              id='11',\n",
       "              text='заболеваний',\n",
       "              pos='NOUN',\n",
       "              feats={'Animacy': 'Inan',\n",
       "               'Case': 'Gen',\n",
       "               'Gender': 'Neut',\n",
       "               'Number': 'Plur'},\n",
       "              head_id='8',\n",
       "              rel='nmod',\n",
       "              tag='O'\n",
       "          ),\n",
       "          NerusToken(\n",
       "              id='12',\n",
       "              text='среди',\n",
       "              pos='ADP',\n",
       "              feats={},\n",
       "              head_id='13',\n",
       "              rel='case',\n",
       "              tag='O'\n",
       "          ),\n",
       "          NerusToken(\n",
       "              id='13',\n",
       "              text='россиян',\n",
       "              pos='NOUN',\n",
       "              feats={'Animacy': 'Anim',\n",
       "               'Case': 'Gen',\n",
       "               'Gender': 'Masc',\n",
       "               'Number': 'Plur'},\n",
       "              head_id='8',\n",
       "              rel='nmod',\n",
       "              tag='O'\n",
       "          ),\n",
       "          NerusToken(\n",
       "              id='14',\n",
       "              text='снизилась',\n",
       "              pos='VERB',\n",
       "              feats={'Aspect': 'Perf',\n",
       "               'Gender': 'Fem',\n",
       "               'Mood': 'Ind',\n",
       "               'Number': 'Sing',\n",
       "               'Tense': 'Past',\n",
       "               'VerbForm': 'Fin',\n",
       "               'Voice': 'Mid'},\n",
       "              head_id='4',\n",
       "              rel='ccomp',\n",
       "              tag='O'\n",
       "          ),\n",
       "          NerusToken(\n",
       "              id='15',\n",
       "              text='впервые',\n",
       "              pos='ADV',\n",
       "              feats={'Degree': 'Pos'},\n",
       "              head_id='14',\n",
       "              rel='advmod',\n",
       "              tag='O'\n",
       "          ),\n",
       "          NerusToken(\n",
       "              id='16',\n",
       "              text='за',\n",
       "              pos='ADP',\n",
       "              feats={},\n",
       "              head_id='18',\n",
       "              rel='case',\n",
       "              tag='O'\n",
       "          ),\n",
       "          NerusToken(\n",
       "              id='17',\n",
       "              text='три',\n",
       "              pos='NUM',\n",
       "              feats={'Animacy': 'Inan',\n",
       "               'Case': 'Acc'},\n",
       "              head_id='18',\n",
       "              rel='nummod:gov',\n",
       "              tag='O'\n",
       "          ),\n",
       "          NerusToken(\n",
       "              id='18',\n",
       "              text='года',\n",
       "              pos='NOUN',\n",
       "              feats={'Animacy': 'Inan',\n",
       "               'Case': 'Gen',\n",
       "               'Gender': 'Masc',\n",
       "               'Number': 'Sing'},\n",
       "              head_id='15',\n",
       "              rel='obl',\n",
       "              tag='O'\n",
       "          ),\n",
       "          NerusToken(\n",
       "              id='19',\n",
       "              text='.',\n",
       "              pos='PUNCT',\n",
       "              feats={},\n",
       "              head_id='4',\n",
       "              rel='punct',\n",
       "              tag='O'\n",
       "          )]\n",
       "     ),\n",
       "     NerusSent(\n",
       "         id='0_4',\n",
       "         text='По данным Росстата, в 2017 году от рака умерли 289 тысяч человек.',\n",
       "         tokens=[NerusToken(\n",
       "              id='1',\n",
       "              text='По',\n",
       "              pos='ADP',\n",
       "              feats={},\n",
       "              head_id='2',\n",
       "              rel='case',\n",
       "              tag='O'\n",
       "          ),\n",
       "          NerusToken(\n",
       "              id='2',\n",
       "              text='данным',\n",
       "              pos='NOUN',\n",
       "              feats={'Animacy': 'Inan',\n",
       "               'Case': 'Dat',\n",
       "               'Gender': 'Neut',\n",
       "               'Number': 'Plur'},\n",
       "              head_id='10',\n",
       "              rel='parataxis',\n",
       "              tag='O'\n",
       "          ),\n",
       "          NerusToken(\n",
       "              id='3',\n",
       "              text='Росстата',\n",
       "              pos='PROPN',\n",
       "              feats={'Animacy': 'Inan',\n",
       "               'Case': 'Gen',\n",
       "               'Gender': 'Masc',\n",
       "               'Number': 'Sing'},\n",
       "              head_id='2',\n",
       "              rel='nmod',\n",
       "              tag='B-ORG'\n",
       "          ),\n",
       "          NerusToken(\n",
       "              id='4',\n",
       "              text=',',\n",
       "              pos='PUNCT',\n",
       "              feats={},\n",
       "              head_id='2',\n",
       "              rel='punct',\n",
       "              tag='O'\n",
       "          ),\n",
       "          NerusToken(\n",
       "              id='5',\n",
       "              text='в',\n",
       "              pos='ADP',\n",
       "              feats={},\n",
       "              head_id='7',\n",
       "              rel='case',\n",
       "              tag='O'\n",
       "          ),\n",
       "          NerusToken(\n",
       "              id='6',\n",
       "              text='2017',\n",
       "              pos='ADJ',\n",
       "              feats={},\n",
       "              head_id='7',\n",
       "              rel='amod',\n",
       "              tag='O'\n",
       "          ),\n",
       "          NerusToken(\n",
       "              id='7',\n",
       "              text='году',\n",
       "              pos='NOUN',\n",
       "              feats={'Animacy': 'Inan',\n",
       "               'Case': 'Loc',\n",
       "               'Gender': 'Masc',\n",
       "               'Number': 'Sing'},\n",
       "              head_id='10',\n",
       "              rel='obl',\n",
       "              tag='O'\n",
       "          ),\n",
       "          NerusToken(\n",
       "              id='8',\n",
       "              text='от',\n",
       "              pos='ADP',\n",
       "              feats={},\n",
       "              head_id='9',\n",
       "              rel='case',\n",
       "              tag='O'\n",
       "          ),\n",
       "          NerusToken(\n",
       "              id='9',\n",
       "              text='рака',\n",
       "              pos='NOUN',\n",
       "              feats={'Animacy': 'Inan',\n",
       "               'Case': 'Gen',\n",
       "               'Gender': 'Masc',\n",
       "               'Number': 'Sing'},\n",
       "              head_id='10',\n",
       "              rel='obl',\n",
       "              tag='O'\n",
       "          ),\n",
       "          NerusToken(\n",
       "              id='10',\n",
       "              text='умерли',\n",
       "              pos='VERB',\n",
       "              feats={'Aspect': 'Perf',\n",
       "               'Mood': 'Ind',\n",
       "               'Number': 'Plur',\n",
       "               'Tense': 'Past',\n",
       "               'VerbForm': 'Fin',\n",
       "               'Voice': 'Act'},\n",
       "              head_id='0',\n",
       "              rel='root',\n",
       "              tag='O'\n",
       "          ),\n",
       "          NerusToken(\n",
       "              id='11',\n",
       "              text='289',\n",
       "              pos='NUM',\n",
       "              feats={},\n",
       "              head_id='12',\n",
       "              rel='nummod',\n",
       "              tag='O'\n",
       "          ),\n",
       "          NerusToken(\n",
       "              id='12',\n",
       "              text='тысяч',\n",
       "              pos='NOUN',\n",
       "              feats={'Animacy': 'Inan',\n",
       "               'Case': 'Gen',\n",
       "               'Gender': 'Fem',\n",
       "               'Number': 'Plur'},\n",
       "              head_id='10',\n",
       "              rel='nsubj',\n",
       "              tag='O'\n",
       "          ),\n",
       "          NerusToken(\n",
       "              id='13',\n",
       "              text='человек',\n",
       "              pos='NOUN',\n",
       "              feats={'Animacy': 'Anim',\n",
       "               'Case': 'Gen',\n",
       "               'Gender': 'Masc',\n",
       "               'Number': 'Plur'},\n",
       "              head_id='12',\n",
       "              rel='nmod',\n",
       "              tag='O'\n",
       "          ),\n",
       "          NerusToken(\n",
       "              id='14',\n",
       "              text='.',\n",
       "              pos='PUNCT',\n",
       "              feats={},\n",
       "              head_id='10',\n",
       "              rel='punct',\n",
       "              tag='O'\n",
       "          )]\n",
       "     ),\n",
       "     NerusSent(\n",
       "         id='0_5',\n",
       "         text='Это на 3,5 процента меньше, чем годом ранее.',\n",
       "         tokens=[NerusToken(\n",
       "              id='1',\n",
       "              text='Это',\n",
       "              pos='PRON',\n",
       "              feats={'Animacy': 'Inan',\n",
       "               'Case': 'Nom',\n",
       "               'Gender': 'Neut',\n",
       "               'Number': 'Sing'},\n",
       "              head_id='5',\n",
       "              rel='nsubj',\n",
       "              tag='O'\n",
       "          ),\n",
       "          NerusToken(\n",
       "              id='2',\n",
       "              text='на',\n",
       "              pos='ADP',\n",
       "              feats={},\n",
       "              head_id='4',\n",
       "              rel='case',\n",
       "              tag='O'\n",
       "          ),\n",
       "          NerusToken(\n",
       "              id='3',\n",
       "              text='3,5',\n",
       "              pos='NUM',\n",
       "              feats={},\n",
       "              head_id='4',\n",
       "              rel='nummod',\n",
       "              tag='O'\n",
       "          ),\n",
       "          NerusToken(\n",
       "              id='4',\n",
       "              text='процента',\n",
       "              pos='NOUN',\n",
       "              feats={'Animacy': 'Inan',\n",
       "               'Case': 'Gen',\n",
       "               'Gender': 'Masc',\n",
       "               'Number': 'Sing'},\n",
       "              head_id='5',\n",
       "              rel='obl',\n",
       "              tag='O'\n",
       "          ),\n",
       "          NerusToken(\n",
       "              id='5',\n",
       "              text='меньше',\n",
       "              pos='NUM',\n",
       "              feats={'Degree': 'Cmp'},\n",
       "              head_id='0',\n",
       "              rel='root',\n",
       "              tag='O'\n",
       "          ),\n",
       "          NerusToken(\n",
       "              id='6',\n",
       "              text=',',\n",
       "              pos='PUNCT',\n",
       "              feats={},\n",
       "              head_id='8',\n",
       "              rel='punct',\n",
       "              tag='O'\n",
       "          ),\n",
       "          NerusToken(\n",
       "              id='7',\n",
       "              text='чем',\n",
       "              pos='SCONJ',\n",
       "              feats={},\n",
       "              head_id='8',\n",
       "              rel='mark',\n",
       "              tag='O'\n",
       "          ),\n",
       "          NerusToken(\n",
       "              id='8',\n",
       "              text='годом',\n",
       "              pos='NOUN',\n",
       "              feats={'Animacy': 'Inan',\n",
       "               'Case': 'Ins',\n",
       "               'Gender': 'Masc',\n",
       "               'Number': 'Sing'},\n",
       "              head_id='5',\n",
       "              rel='obl',\n",
       "              tag='O'\n",
       "          ),\n",
       "          NerusToken(\n",
       "              id='9',\n",
       "              text='ранее',\n",
       "              pos='ADV',\n",
       "              feats={'Degree': 'Pos'},\n",
       "              head_id='8',\n",
       "              rel='advmod',\n",
       "              tag='O'\n",
       "          ),\n",
       "          NerusToken(\n",
       "              id='10',\n",
       "              text='.',\n",
       "              pos='PUNCT',\n",
       "              feats={},\n",
       "              head_id='5',\n",
       "              rel='punct',\n",
       "              tag='O'\n",
       "          )]\n",
       "     )]\n",
       ")"
      ]
     },
     "execution_count": 89,
     "metadata": {},
     "output_type": "execute_result"
    }
   ],
   "source": [
    "docs = load_nerus('nerus_lenta.conllu.gz')\n",
    "next(docs)"
   ]
  },
  {
   "cell_type": "code",
   "execution_count": 90,
   "metadata": {},
   "outputs": [],
   "source": [
    "def get_data_from_docs(size):\n",
    "\n",
    "    docs = load_nerus('nerus_lenta.conllu.gz')\n",
    "    sents, tags = [], []\n",
    "    for i in range(size):\n",
    "        doc = next(docs)\n",
    "        for sent in doc.sents:\n",
    "            sents.append([token.text for token in sent.tokens])\n",
    "            tags.append([token.pos for token in sent.tokens])\n",
    "                      \n",
    "    return sents, tags"
   ]
  },
  {
   "cell_type": "code",
   "execution_count": 91,
   "metadata": {},
   "outputs": [],
   "source": [
    "class Tokenizer(object):\n",
    "    \n",
    "    def __init__(self, sents, tags):\n",
    "\n",
    "        word_tokens = {'[PAD]': 0, '[UNK]': 1}\n",
    "        for sent in sents:\n",
    "            for word in sent:\n",
    "                if word not in word_tokens:\n",
    "                    word_tokens[word] = word_tokens.__len__()\n",
    "\n",
    "        tag_tokens = {'[PAD]': 0, '[UNK]': 1}\n",
    "        for tags in tags:\n",
    "            for tag in tags:\n",
    "                if tag not in tag_tokens:\n",
    "                    tag_tokens[tag] = tag_tokens.__len__()\n",
    "        \n",
    "        self.word_tokens = word_tokens\n",
    "        self.tag_tokens = tag_tokens\n",
    "\n",
    "                \n",
    "    def __call__(self, sents, tags):\n",
    "\n",
    "        tokenized_sents = [torch.tensor([self.word_tokens.get(word, self.word_tokens['[UNK]']) for word in sent]) for sent in sents]\n",
    "        tokenized_tags = [torch.tensor([self.tag_tokens.get(tag, self.tag_tokens['[UNK]']) for tag in tags_]) for tags_ in tags]\n",
    "\n",
    "        return pad_sequence(tokenized_sents, batch_first=True, padding_value=self.word_tokens['[PAD]']), \\\n",
    "               pad_sequence(tokenized_tags, batch_first=True, padding_value=self.tag_tokens['[PAD]'])"
   ]
  },
  {
   "attachments": {},
   "cell_type": "markdown",
   "metadata": {},
   "source": [
    "### 1.4 Датасет"
   ]
  },
  {
   "cell_type": "code",
   "execution_count": 92,
   "metadata": {},
   "outputs": [],
   "source": [
    "class NerusDataset(Dataset):\n",
    "\n",
    "    def __init__(self, tokenized_sents, tokenized_tags):\n",
    "        \n",
    "        super().__init__()\n",
    "\n",
    "        self.tokenized_sents = tokenized_sents\n",
    "        self.tokenized_tags = tokenized_tags\n",
    "\n",
    "    def __len__(self):\n",
    "\n",
    "        return len(self.tokenized_sents)\n",
    "                \n",
    "    def __getitem__(self, idx):\n",
    "        \n",
    "        return torch.tensor(self.tokenized_sents[idx]), torch.tensor(self.tokenized_tags[idx])"
   ]
  },
  {
   "cell_type": "code",
   "execution_count": 93,
   "metadata": {},
   "outputs": [],
   "source": [
    "def get_data_loaders_and_parameters(size):\n",
    "\n",
    "        sents, tags = get_data_from_docs(size)\n",
    "        tokenizer = Tokenizer(sents, tags)\n",
    "        sents_train, sents_test, tags_train, tags_test = train_test_split(sents, tags, test_size=0.1, random_state=17)\n",
    "\n",
    "        tokenized_sents_train, tokenized_tags_train = tokenizer(sents_train, tags_train)\n",
    "        tokenized_sents_test, tokenized_tags_test = tokenizer(sents_test, tags_test)\n",
    "\n",
    "        train_dataset = NerusDataset(tokenized_sents_train, tokenized_tags_train) \n",
    "        test_dataset = NerusDataset(tokenized_sents_test, tokenized_tags_test) \n",
    "\n",
    "        train_dataloader = DataLoader(train_dataset, batch_size=64)\n",
    "        test_dataloader = DataLoader(test_dataset, batch_size=64)\n",
    "\n",
    "        vocab_dim, num_classes = len(tokenizer.word_tokens), len(tokenizer.tag_tokens)\n",
    "\n",
    "        return train_dataloader, test_dataloader, vocab_dim, num_classes"
   ]
  },
  {
   "attachments": {},
   "cell_type": "markdown",
   "metadata": {},
   "source": [
    "### 1.5 Модель"
   ]
  },
  {
   "attachments": {},
   "cell_type": "markdown",
   "metadata": {},
   "source": [
    "#### 1.5.1 Архитектура"
   ]
  },
  {
   "cell_type": "code",
   "execution_count": 94,
   "metadata": {},
   "outputs": [],
   "source": [
    "class LSTMClassifier(torch.nn.Module):\n",
    "\n",
    "    @property\n",
    "    def device(self):\n",
    "\n",
    "        return next(self.parameters()).device\n",
    "\n",
    "    def __init__(self, vocab_dim, emb_dim, hidden_dim, num_layers, dropout, output_dim):\n",
    "\n",
    "        super(LSTMClassifier, self).__init__()\n",
    "\n",
    "        self.embedding = torch.nn.Embedding(vocab_dim, emb_dim)\n",
    "        self.encoder = torch.nn.LSTM(emb_dim, hidden_dim, num_layers=num_layers, batch_first=True, dropout=dropout)\n",
    "        self.linear = torch.nn.Linear(hidden_dim, output_dim)\n",
    "\n",
    "    def forward(self, input):\n",
    "\n",
    "        embeded_input = self.embedding(input)\n",
    "        encoded_input, _ = self.encoder(embeded_input)\n",
    "\n",
    "        return self.linear(encoded_input)"
   ]
  },
  {
   "attachments": {},
   "cell_type": "markdown",
   "metadata": {},
   "source": [
    "#### 1.5.2 Логгер"
   ]
  },
  {
   "cell_type": "code",
   "execution_count": 95,
   "metadata": {},
   "outputs": [],
   "source": [
    "class Callback():\n",
    "\n",
    "    def __init__(self, writer, loss_function, delimeter=50):\n",
    "\n",
    "        self.step = 0\n",
    "        self.writer = writer\n",
    "        self.delimeter = delimeter\n",
    "        self.loss_function = loss_function\n",
    "\n",
    "    def forward(self, model, dataloader_test, loss):\n",
    "\n",
    "        self.step += 1\n",
    "        self.writer.add_scalar('LOSS/train', loss, self.step)\n",
    "        \n",
    "        if self.step % self.delimeter == 0:\n",
    "            \n",
    "            pred = []\n",
    "            real = []\n",
    "            test_loss = 0\n",
    "            \n",
    "            model.eval()\n",
    "            with torch.no_grad():\n",
    "                for x_batch, y_batch in dataloader_test:\n",
    "                    x_batch = x_batch.to(model.device)\n",
    "                    y_batch = y_batch.to(model.device)\n",
    "                    output = model(x_batch)\n",
    "                    test_loss += self.loss_function(output.transpose(-1, 1),\n",
    "                                               y_batch.transpose(-1, 1)).cpu().item() \\\n",
    "                                 * len(x_batch)\n",
    "              \n",
    "                    pred.extend(torch.argmax(output, dim=2).cpu().numpy().flatten())\n",
    "                    real.extend(y_batch.cpu().numpy().flatten())\n",
    "            \n",
    "            self.writer.add_scalar('LOSS/test', test_loss, self.step)\n",
    "            self.writer.add_text('REPORT/test',\n",
    "                                 str(classification_report(real, pred, labels=range(1, model.linear.out_features))),\n",
    "                                 self.step)\n",
    "          \n",
    "    def __call__(self, model, dataloader_test, loss):\n",
    "        \n",
    "        return self.forward(model, dataloader_test, loss)"
   ]
  },
  {
   "attachments": {},
   "cell_type": "markdown",
   "metadata": {},
   "source": [
    "#### 1.5.3 Обучение"
   ]
  },
  {
   "cell_type": "code",
   "execution_count": 96,
   "metadata": {},
   "outputs": [],
   "source": [
    "def train_on_batch(model, x_batch, y_batch, optimizer, loss_function):\n",
    "    \n",
    "    model.train()\n",
    "    optimizer.zero_grad()\n",
    "    output = model(x_batch.to(model.device))\n",
    "    loss = loss_function(output.transpose(-1, 1), y_batch.to(model.device).transpose(-1, 1))\n",
    "    loss.backward()\n",
    "    optimizer.step()\n",
    "\n",
    "    return loss.cpu().item()\n",
    "\n",
    "def train_epoch(model, loss_function, optimizer, dataloader_train, dataloader_test, callback=None):\n",
    "\n",
    "    epoch_loss = 0\n",
    "    total = 0.1\n",
    "    for it, (batch_of_x, batch_of_y) in tqdm(enumerate(dataloader_train), leave=False, total=len(dataloader_train)):\n",
    "        pass\n",
    "        batch_loss = train_on_batch(model, batch_of_x, batch_of_y, optimizer, loss_function)\n",
    "        if callback is not None:\n",
    "            callback(model, dataloader_test, batch_loss)\n",
    "        epoch_loss += batch_loss * len(batch_of_x)\n",
    "        total += len(batch_of_x)\n",
    "    \n",
    "    return epoch_loss/total\n",
    "\n",
    "def trainer(count_of_epoch,\n",
    "            model,\n",
    "            loss_function,\n",
    "            optimizer,\n",
    "            dataloader_train,\n",
    "            dataloader_test,\n",
    "            lr=0.001,\n",
    "            callback=None):\n",
    "\n",
    "    optima = optimizer(model.parameters(), lr=lr)\n",
    "    \n",
    "    iterations = tqdm(range(count_of_epoch), desc='epoch')\n",
    "    iterations.set_postfix({'train epoch loss': np.nan})\n",
    "    \n",
    "    for it in iterations:\n",
    "        epoch_loss = train_epoch(model=model, \n",
    "                    loss_function=loss_function, \n",
    "                    optimizer=optima, \n",
    "                    dataloader_train=dataloader_train,\n",
    "                    dataloader_test=dataloader_test,\n",
    "                    callback=callback)\n",
    "        \n",
    "        iterations.set_postfix({'train epoch loss': epoch_loss})"
   ]
  },
  {
   "attachments": {},
   "cell_type": "markdown",
   "metadata": {},
   "source": [
    "## 2. Анализ модели"
   ]
  },
  {
   "attachments": {},
   "cell_type": "markdown",
   "metadata": {},
   "source": [
    "### Базовая конфигурация"
   ]
  },
  {
   "cell_type": "code",
   "execution_count": 97,
   "metadata": {},
   "outputs": [],
   "source": [
    "def make_experiment(log_dir, num_docs=3000, emb_dim=50, hidden_dim=10, num_layers=2, dropout=0.0):\n",
    "        \n",
    "        train_dataloader, test_dataloader, vocab_dim, output_dim = get_data_loaders_and_parameters(num_docs)\n",
    "        model = LSTMClassifier(vocab_dim, emb_dim, hidden_dim, num_layers, dropout, output_dim).to(device)\n",
    "        loss_function = torch.nn.CrossEntropyLoss()\n",
    "        optimizer = torch.optim.Adam\n",
    "        writer = SummaryWriter(log_dir=log_dir)\n",
    "        call = Callback(writer, loss_function)\n",
    "        trainer(count_of_epoch=3,\n",
    "                model=model,\n",
    "                loss_function=loss_function,\n",
    "                optimizer=optimizer,\n",
    "                dataloader_train=train_dataloader,\n",
    "                dataloader_test=test_dataloader,\n",
    "                callback=call)"
   ]
  },
  {
   "cell_type": "code",
   "execution_count": 98,
   "metadata": {},
   "outputs": [],
   "source": [
    "num_docs = 3000\n",
    "train_dataloader, test_dataloader, vocab_dim, output_dim = get_data_loaders_and_parameters(num_docs)\n",
    "model_conf = {\n",
    "    'vocab_dim': vocab_dim,\n",
    "    'emb_dim': 50,\n",
    "    'hidden_dim': 10,\n",
    "    'num_layers': 2,\n",
    "    'dropout': 0.0,\n",
    "    'output_dim': output_dim\n",
    "}\n",
    "model = LSTMClassifier(**model_conf).to(device)"
   ]
  },
  {
   "attachments": {},
   "cell_type": "markdown",
   "metadata": {},
   "source": [
    "### 2.0 Перфоманс до и после обучения"
   ]
  },
  {
   "cell_type": "code",
   "execution_count": 99,
   "metadata": {},
   "outputs": [],
   "source": [
    "def quality_report(model, dataloader_test):\n",
    "    pred = []\n",
    "    real = []\n",
    "    model.eval()\n",
    "    with torch.no_grad():\n",
    "        for x_batch, y_batch in dataloader_test:\n",
    "            x_batch = x_batch.to(model.device)\n",
    "            y_batch = y_batch.to(model.device)\n",
    "        \n",
    "            output = model(x_batch)\n",
    "    \n",
    "            pred.extend(torch.argmax(output, dim=2).cpu().numpy().flatten())\n",
    "            real.extend(y_batch.cpu().numpy().flatten())\n",
    "\n",
    "    print(classification_report(real, pred, labels=range(1, model.linear.out_features)))"
   ]
  },
  {
   "attachments": {},
   "cell_type": "markdown",
   "metadata": {},
   "source": [
    "#### До"
   ]
  },
  {
   "cell_type": "code",
   "execution_count": 100,
   "metadata": {},
   "outputs": [
    {
     "name": "stdout",
     "output_type": "stream",
     "text": [
      "              precision    recall  f1-score   support\n",
      "\n",
      "           1       0.00      0.00      0.00         0\n",
      "           2       0.00      0.00      0.00     17054\n",
      "           3       0.12      0.00      0.00      7188\n",
      "           4       0.00      0.00      0.00      5671\n",
      "           5       0.00      0.00      0.00      4756\n",
      "           6       0.00      0.00      0.00      7368\n",
      "           7       0.00      0.00      0.00     11386\n",
      "           8       0.00      0.00      0.00      1018\n",
      "           9       0.00      0.00      0.00      1727\n",
      "          10       0.00      0.00      0.00      2287\n",
      "          11       0.00      0.00      0.00      1610\n",
      "          12       0.00      0.00      0.00      1055\n",
      "          13       0.00      0.00      0.00      1232\n",
      "          14       0.00      0.00      0.00       848\n",
      "          15       0.00      0.00      0.00       405\n",
      "          16       0.00      0.00      0.00       571\n",
      "          17       0.00      0.00      0.00        19\n",
      "          18       0.00      0.00      0.00         8\n",
      "\n",
      "   micro avg       0.00      0.00      0.00     64203\n",
      "   macro avg       0.01      0.00      0.00     64203\n",
      "weighted avg       0.01      0.00      0.00     64203\n",
      "\n"
     ]
    }
   ],
   "source": [
    "quality_report(model, test_dataloader)"
   ]
  },
  {
   "attachments": {},
   "cell_type": "markdown",
   "metadata": {},
   "source": [
    "#### После"
   ]
  },
  {
   "cell_type": "code",
   "execution_count": 101,
   "metadata": {},
   "outputs": [
    {
     "data": {
      "application/vnd.jupyter.widget-view+json": {
       "model_id": "74af3b02103948ff849ba577f00c8156",
       "version_major": 2,
       "version_minor": 0
      },
      "text/plain": [
       "epoch:   0%|          | 0/3 [00:00<?, ?it/s]"
      ]
     },
     "metadata": {},
     "output_type": "display_data"
    },
    {
     "data": {
      "application/vnd.jupyter.widget-view+json": {
       "model_id": "ef5cb7dc16dc4d53b03bfeb5be86f633",
       "version_major": 2,
       "version_minor": 0
      },
      "text/plain": [
       "  0%|          | 0/498 [00:00<?, ?it/s]"
      ]
     },
     "metadata": {},
     "output_type": "display_data"
    },
    {
     "data": {
      "application/vnd.jupyter.widget-view+json": {
       "model_id": "343b170f5840470b9f7536c07e974a38",
       "version_major": 2,
       "version_minor": 0
      },
      "text/plain": [
       "  0%|          | 0/498 [00:00<?, ?it/s]"
      ]
     },
     "metadata": {},
     "output_type": "display_data"
    },
    {
     "data": {
      "application/vnd.jupyter.widget-view+json": {
       "model_id": "750ebde46dee4981825f8c1d5fb0846d",
       "version_major": 2,
       "version_minor": 0
      },
      "text/plain": [
       "  0%|          | 0/498 [00:00<?, ?it/s]"
      ]
     },
     "metadata": {},
     "output_type": "display_data"
    }
   ],
   "source": [
    "loss_function = torch.nn.CrossEntropyLoss()\n",
    "optimizer = torch.optim.Adam\n",
    "writer = SummaryWriter(log_dir='task 2 logs/exp 2.0 - basic conf')\n",
    "call = Callback(writer, loss_function)\n",
    "trainer(count_of_epoch=3,\n",
    "        model=model,\n",
    "        loss_function=loss_function,\n",
    "        optimizer=optimizer,\n",
    "        dataloader_train=train_dataloader,\n",
    "        dataloader_test=test_dataloader,\n",
    "        callback=call)"
   ]
  },
  {
   "cell_type": "code",
   "execution_count": 102,
   "metadata": {},
   "outputs": [
    {
     "name": "stdout",
     "output_type": "stream",
     "text": [
      "              precision    recall  f1-score   support\n",
      "\n",
      "           1       0.00      0.00      0.00         0\n",
      "           2       0.42      1.00      0.59     17054\n",
      "           3       0.93      0.97      0.95      7188\n",
      "           4       0.00      0.00      0.00      5671\n",
      "           5       0.00      0.00      0.00      4756\n",
      "           6       0.02      0.01      0.02      7368\n",
      "           7       0.95      0.99      0.97     11386\n",
      "           8       0.00      0.00      0.00      1018\n",
      "           9       0.00      0.00      0.00      1727\n",
      "          10       0.00      0.00      0.00      2287\n",
      "          11       0.00      0.00      0.00      1610\n",
      "          12       0.00      0.00      0.00      1055\n",
      "          13       0.00      0.00      0.00      1232\n",
      "          14       0.00      0.00      0.00       848\n",
      "          15       0.00      0.00      0.00       405\n",
      "          16       0.00      0.00      0.00       571\n",
      "          17       0.00      0.00      0.00        19\n",
      "          18       0.00      0.00      0.00         8\n",
      "\n",
      "   micro avg       0.55      0.55      0.55     64203\n",
      "   macro avg       0.13      0.17      0.14     64203\n",
      "weighted avg       0.39      0.55      0.44     64203\n",
      "\n"
     ]
    }
   ],
   "source": [
    "quality_report(model, test_dataloader)"
   ]
  },
  {
   "attachments": {},
   "cell_type": "markdown",
   "metadata": {},
   "source": [
    "### 2.1 Размер скрытого слоя в LSTM"
   ]
  },
  {
   "cell_type": "code",
   "execution_count": 103,
   "metadata": {},
   "outputs": [
    {
     "data": {
      "application/vnd.jupyter.widget-view+json": {
       "model_id": "aecfd2bf6b694c76a93f9f1fb3db1536",
       "version_major": 2,
       "version_minor": 0
      },
      "text/plain": [
       "epoch:   0%|          | 0/3 [00:00<?, ?it/s]"
      ]
     },
     "metadata": {},
     "output_type": "display_data"
    },
    {
     "data": {
      "application/vnd.jupyter.widget-view+json": {
       "model_id": "b114a833174e4adabb814ebce44fb203",
       "version_major": 2,
       "version_minor": 0
      },
      "text/plain": [
       "  0%|          | 0/498 [00:00<?, ?it/s]"
      ]
     },
     "metadata": {},
     "output_type": "display_data"
    },
    {
     "data": {
      "application/vnd.jupyter.widget-view+json": {
       "model_id": "74c360cf0c484447a00cc352249cd521",
       "version_major": 2,
       "version_minor": 0
      },
      "text/plain": [
       "  0%|          | 0/498 [00:00<?, ?it/s]"
      ]
     },
     "metadata": {},
     "output_type": "display_data"
    },
    {
     "data": {
      "application/vnd.jupyter.widget-view+json": {
       "model_id": "f42e9213169b4d15a219cd5bae242262",
       "version_major": 2,
       "version_minor": 0
      },
      "text/plain": [
       "  0%|          | 0/498 [00:00<?, ?it/s]"
      ]
     },
     "metadata": {},
     "output_type": "display_data"
    },
    {
     "data": {
      "application/vnd.jupyter.widget-view+json": {
       "model_id": "5da497fe62e74004ad6b8f854291f38c",
       "version_major": 2,
       "version_minor": 0
      },
      "text/plain": [
       "epoch:   0%|          | 0/3 [00:00<?, ?it/s]"
      ]
     },
     "metadata": {},
     "output_type": "display_data"
    },
    {
     "data": {
      "application/vnd.jupyter.widget-view+json": {
       "model_id": "89e1bb5c935947babfe8f48e1ba74a85",
       "version_major": 2,
       "version_minor": 0
      },
      "text/plain": [
       "  0%|          | 0/498 [00:00<?, ?it/s]"
      ]
     },
     "metadata": {},
     "output_type": "display_data"
    },
    {
     "data": {
      "application/vnd.jupyter.widget-view+json": {
       "model_id": "5bf841945dd14cc4bcaf5d4955cc3dbc",
       "version_major": 2,
       "version_minor": 0
      },
      "text/plain": [
       "  0%|          | 0/498 [00:00<?, ?it/s]"
      ]
     },
     "metadata": {},
     "output_type": "display_data"
    },
    {
     "data": {
      "application/vnd.jupyter.widget-view+json": {
       "model_id": "d9bae46258224572b22bbe41a2e5e8a6",
       "version_major": 2,
       "version_minor": 0
      },
      "text/plain": [
       "  0%|          | 0/498 [00:00<?, ?it/s]"
      ]
     },
     "metadata": {},
     "output_type": "display_data"
    },
    {
     "data": {
      "application/vnd.jupyter.widget-view+json": {
       "model_id": "be75976bb2704b158940521fc02b2143",
       "version_major": 2,
       "version_minor": 0
      },
      "text/plain": [
       "epoch:   0%|          | 0/3 [00:00<?, ?it/s]"
      ]
     },
     "metadata": {},
     "output_type": "display_data"
    },
    {
     "data": {
      "application/vnd.jupyter.widget-view+json": {
       "model_id": "d8c70f5e627d42a4a111910e4f9a64ab",
       "version_major": 2,
       "version_minor": 0
      },
      "text/plain": [
       "  0%|          | 0/498 [00:00<?, ?it/s]"
      ]
     },
     "metadata": {},
     "output_type": "display_data"
    },
    {
     "data": {
      "application/vnd.jupyter.widget-view+json": {
       "model_id": "7991031123a94743ac1b6361218b5fdb",
       "version_major": 2,
       "version_minor": 0
      },
      "text/plain": [
       "  0%|          | 0/498 [00:00<?, ?it/s]"
      ]
     },
     "metadata": {},
     "output_type": "display_data"
    },
    {
     "data": {
      "application/vnd.jupyter.widget-view+json": {
       "model_id": "e1133e7079f54b4a9d2e9116364e11e4",
       "version_major": 2,
       "version_minor": 0
      },
      "text/plain": [
       "  0%|          | 0/498 [00:00<?, ?it/s]"
      ]
     },
     "metadata": {},
     "output_type": "display_data"
    }
   ],
   "source": [
    "for hidden_dim in (20, 30, 40):\n",
    "    log_dir = 'task 2 logs/exp 2.1 - hidden_dim/hidden_dim = ' + str(hidden_dim)\n",
    "    make_experiment(log_dir, hidden_dim=hidden_dim)"
   ]
  },
  {
   "attachments": {},
   "cell_type": "markdown",
   "metadata": {},
   "source": [
    "### 2.2 Размерность пространства эмбеддинга"
   ]
  },
  {
   "cell_type": "code",
   "execution_count": 104,
   "metadata": {},
   "outputs": [
    {
     "data": {
      "application/vnd.jupyter.widget-view+json": {
       "model_id": "ae8609d3c01b4875b5f4c247683bc321",
       "version_major": 2,
       "version_minor": 0
      },
      "text/plain": [
       "epoch:   0%|          | 0/3 [00:00<?, ?it/s]"
      ]
     },
     "metadata": {},
     "output_type": "display_data"
    },
    {
     "data": {
      "application/vnd.jupyter.widget-view+json": {
       "model_id": "d98ee8c2c9b9460f8d8a87983f25a1e5",
       "version_major": 2,
       "version_minor": 0
      },
      "text/plain": [
       "  0%|          | 0/498 [00:00<?, ?it/s]"
      ]
     },
     "metadata": {},
     "output_type": "display_data"
    },
    {
     "data": {
      "application/vnd.jupyter.widget-view+json": {
       "model_id": "af6713cbb2e2442eafa742d53b201196",
       "version_major": 2,
       "version_minor": 0
      },
      "text/plain": [
       "  0%|          | 0/498 [00:00<?, ?it/s]"
      ]
     },
     "metadata": {},
     "output_type": "display_data"
    },
    {
     "data": {
      "application/vnd.jupyter.widget-view+json": {
       "model_id": "b8a3a5e1f5e04eb386e5e740a481b539",
       "version_major": 2,
       "version_minor": 0
      },
      "text/plain": [
       "  0%|          | 0/498 [00:00<?, ?it/s]"
      ]
     },
     "metadata": {},
     "output_type": "display_data"
    },
    {
     "data": {
      "application/vnd.jupyter.widget-view+json": {
       "model_id": "dc562266d31c444aba9df5beaaf9066c",
       "version_major": 2,
       "version_minor": 0
      },
      "text/plain": [
       "epoch:   0%|          | 0/3 [00:00<?, ?it/s]"
      ]
     },
     "metadata": {},
     "output_type": "display_data"
    },
    {
     "data": {
      "application/vnd.jupyter.widget-view+json": {
       "model_id": "847dc92ed0394f24ab3bd9e313cadbe5",
       "version_major": 2,
       "version_minor": 0
      },
      "text/plain": [
       "  0%|          | 0/498 [00:00<?, ?it/s]"
      ]
     },
     "metadata": {},
     "output_type": "display_data"
    },
    {
     "data": {
      "application/vnd.jupyter.widget-view+json": {
       "model_id": "9f63f25c168848dabea6a6861621ec89",
       "version_major": 2,
       "version_minor": 0
      },
      "text/plain": [
       "  0%|          | 0/498 [00:00<?, ?it/s]"
      ]
     },
     "metadata": {},
     "output_type": "display_data"
    },
    {
     "data": {
      "application/vnd.jupyter.widget-view+json": {
       "model_id": "af8a305b9ea848a58d4074b45c60be06",
       "version_major": 2,
       "version_minor": 0
      },
      "text/plain": [
       "  0%|          | 0/498 [00:00<?, ?it/s]"
      ]
     },
     "metadata": {},
     "output_type": "display_data"
    },
    {
     "data": {
      "application/vnd.jupyter.widget-view+json": {
       "model_id": "c69788d279a34fd4aa15f0364a3cb8dc",
       "version_major": 2,
       "version_minor": 0
      },
      "text/plain": [
       "epoch:   0%|          | 0/3 [00:00<?, ?it/s]"
      ]
     },
     "metadata": {},
     "output_type": "display_data"
    },
    {
     "data": {
      "application/vnd.jupyter.widget-view+json": {
       "model_id": "3586c66d291d4061bbc37597ee6d4441",
       "version_major": 2,
       "version_minor": 0
      },
      "text/plain": [
       "  0%|          | 0/498 [00:00<?, ?it/s]"
      ]
     },
     "metadata": {},
     "output_type": "display_data"
    },
    {
     "data": {
      "application/vnd.jupyter.widget-view+json": {
       "model_id": "70e607ba1e5f4f3689e707d1c306a542",
       "version_major": 2,
       "version_minor": 0
      },
      "text/plain": [
       "  0%|          | 0/498 [00:00<?, ?it/s]"
      ]
     },
     "metadata": {},
     "output_type": "display_data"
    },
    {
     "data": {
      "application/vnd.jupyter.widget-view+json": {
       "model_id": "704e82136ee348b185373e9924aaf466",
       "version_major": 2,
       "version_minor": 0
      },
      "text/plain": [
       "  0%|          | 0/498 [00:00<?, ?it/s]"
      ]
     },
     "metadata": {},
     "output_type": "display_data"
    }
   ],
   "source": [
    "for emb_dim in (100, 200, 300):\n",
    "    log_dir = 'task 2 logs/exp 2.2 - emb_dim/emb_dim = ' + str(emb_dim)\n",
    "    make_experiment(log_dir, emb_dim=emb_dim)"
   ]
  },
  {
   "attachments": {},
   "cell_type": "markdown",
   "metadata": {},
   "source": [
    "### 2.3 Число слоев"
   ]
  },
  {
   "cell_type": "code",
   "execution_count": 105,
   "metadata": {},
   "outputs": [
    {
     "data": {
      "application/vnd.jupyter.widget-view+json": {
       "model_id": "225348d2a2124ecc8132c0354ab147ec",
       "version_major": 2,
       "version_minor": 0
      },
      "text/plain": [
       "epoch:   0%|          | 0/3 [00:00<?, ?it/s]"
      ]
     },
     "metadata": {},
     "output_type": "display_data"
    },
    {
     "data": {
      "application/vnd.jupyter.widget-view+json": {
       "model_id": "fe099720ebcc4be8bed645875378f7e9",
       "version_major": 2,
       "version_minor": 0
      },
      "text/plain": [
       "  0%|          | 0/498 [00:00<?, ?it/s]"
      ]
     },
     "metadata": {},
     "output_type": "display_data"
    },
    {
     "data": {
      "application/vnd.jupyter.widget-view+json": {
       "model_id": "581c20134fbf43fb93723f6e3e9206b7",
       "version_major": 2,
       "version_minor": 0
      },
      "text/plain": [
       "  0%|          | 0/498 [00:00<?, ?it/s]"
      ]
     },
     "metadata": {},
     "output_type": "display_data"
    },
    {
     "data": {
      "application/vnd.jupyter.widget-view+json": {
       "model_id": "2a94b79b9353406ca96405304f423bb4",
       "version_major": 2,
       "version_minor": 0
      },
      "text/plain": [
       "  0%|          | 0/498 [00:00<?, ?it/s]"
      ]
     },
     "metadata": {},
     "output_type": "display_data"
    },
    {
     "data": {
      "application/vnd.jupyter.widget-view+json": {
       "model_id": "6193989f286647c5a1f01db1a243aa20",
       "version_major": 2,
       "version_minor": 0
      },
      "text/plain": [
       "epoch:   0%|          | 0/3 [00:00<?, ?it/s]"
      ]
     },
     "metadata": {},
     "output_type": "display_data"
    },
    {
     "data": {
      "application/vnd.jupyter.widget-view+json": {
       "model_id": "f7a94be2bf64430983769cdd17aa6621",
       "version_major": 2,
       "version_minor": 0
      },
      "text/plain": [
       "  0%|          | 0/498 [00:00<?, ?it/s]"
      ]
     },
     "metadata": {},
     "output_type": "display_data"
    },
    {
     "data": {
      "application/vnd.jupyter.widget-view+json": {
       "model_id": "4fb8b405422e4d4281a3089f1241b567",
       "version_major": 2,
       "version_minor": 0
      },
      "text/plain": [
       "  0%|          | 0/498 [00:00<?, ?it/s]"
      ]
     },
     "metadata": {},
     "output_type": "display_data"
    },
    {
     "data": {
      "application/vnd.jupyter.widget-view+json": {
       "model_id": "5bd8128b040a4e56a07012eb7d9c137e",
       "version_major": 2,
       "version_minor": 0
      },
      "text/plain": [
       "  0%|          | 0/498 [00:00<?, ?it/s]"
      ]
     },
     "metadata": {},
     "output_type": "display_data"
    },
    {
     "data": {
      "application/vnd.jupyter.widget-view+json": {
       "model_id": "e7af70b6526b488db4de8eafd8227ba9",
       "version_major": 2,
       "version_minor": 0
      },
      "text/plain": [
       "epoch:   0%|          | 0/3 [00:00<?, ?it/s]"
      ]
     },
     "metadata": {},
     "output_type": "display_data"
    },
    {
     "data": {
      "application/vnd.jupyter.widget-view+json": {
       "model_id": "5aba1a91ecf049c09d33706d92b0c525",
       "version_major": 2,
       "version_minor": 0
      },
      "text/plain": [
       "  0%|          | 0/498 [00:00<?, ?it/s]"
      ]
     },
     "metadata": {},
     "output_type": "display_data"
    },
    {
     "data": {
      "application/vnd.jupyter.widget-view+json": {
       "model_id": "261de7b13b584ca381f017683960c971",
       "version_major": 2,
       "version_minor": 0
      },
      "text/plain": [
       "  0%|          | 0/498 [00:00<?, ?it/s]"
      ]
     },
     "metadata": {},
     "output_type": "display_data"
    },
    {
     "data": {
      "application/vnd.jupyter.widget-view+json": {
       "model_id": "591436a8c0014e0d89e0adc00b3e1b4a",
       "version_major": 2,
       "version_minor": 0
      },
      "text/plain": [
       "  0%|          | 0/498 [00:00<?, ?it/s]"
      ]
     },
     "metadata": {},
     "output_type": "display_data"
    }
   ],
   "source": [
    "for num_layers in (3, 4, 5):\n",
    "    log_dir = 'task 2 logs/exp 2.3 - num_layers/num_layers = ' + str(num_layers)\n",
    "    make_experiment(log_dir, num_layers=num_layers)"
   ]
  },
  {
   "attachments": {},
   "cell_type": "markdown",
   "metadata": {},
   "source": [
    "### 2.4 Дропаут"
   ]
  },
  {
   "cell_type": "code",
   "execution_count": 106,
   "metadata": {},
   "outputs": [
    {
     "data": {
      "application/vnd.jupyter.widget-view+json": {
       "model_id": "ff3383c89ee64245b5d7e5f7827799ce",
       "version_major": 2,
       "version_minor": 0
      },
      "text/plain": [
       "epoch:   0%|          | 0/3 [00:00<?, ?it/s]"
      ]
     },
     "metadata": {},
     "output_type": "display_data"
    },
    {
     "data": {
      "application/vnd.jupyter.widget-view+json": {
       "model_id": "72782db7122b40c5bd2980b920d88c9d",
       "version_major": 2,
       "version_minor": 0
      },
      "text/plain": [
       "  0%|          | 0/498 [00:00<?, ?it/s]"
      ]
     },
     "metadata": {},
     "output_type": "display_data"
    },
    {
     "data": {
      "application/vnd.jupyter.widget-view+json": {
       "model_id": "159836282aa14c5383b0454df1420072",
       "version_major": 2,
       "version_minor": 0
      },
      "text/plain": [
       "  0%|          | 0/498 [00:00<?, ?it/s]"
      ]
     },
     "metadata": {},
     "output_type": "display_data"
    },
    {
     "data": {
      "application/vnd.jupyter.widget-view+json": {
       "model_id": "5ed76bf6c2f04686861f829784c7f7e1",
       "version_major": 2,
       "version_minor": 0
      },
      "text/plain": [
       "  0%|          | 0/498 [00:00<?, ?it/s]"
      ]
     },
     "metadata": {},
     "output_type": "display_data"
    },
    {
     "data": {
      "application/vnd.jupyter.widget-view+json": {
       "model_id": "b658ae56470b4fd4bedd4fd101d1a78f",
       "version_major": 2,
       "version_minor": 0
      },
      "text/plain": [
       "epoch:   0%|          | 0/3 [00:00<?, ?it/s]"
      ]
     },
     "metadata": {},
     "output_type": "display_data"
    },
    {
     "data": {
      "application/vnd.jupyter.widget-view+json": {
       "model_id": "724e42fa89b84b51963af0c487b6383b",
       "version_major": 2,
       "version_minor": 0
      },
      "text/plain": [
       "  0%|          | 0/498 [00:00<?, ?it/s]"
      ]
     },
     "metadata": {},
     "output_type": "display_data"
    },
    {
     "data": {
      "application/vnd.jupyter.widget-view+json": {
       "model_id": "0d627678e2ea4c5aac0658f28fedbf3c",
       "version_major": 2,
       "version_minor": 0
      },
      "text/plain": [
       "  0%|          | 0/498 [00:00<?, ?it/s]"
      ]
     },
     "metadata": {},
     "output_type": "display_data"
    },
    {
     "data": {
      "application/vnd.jupyter.widget-view+json": {
       "model_id": "be0dff7a591d4847b67d5f841cc042c7",
       "version_major": 2,
       "version_minor": 0
      },
      "text/plain": [
       "  0%|          | 0/498 [00:00<?, ?it/s]"
      ]
     },
     "metadata": {},
     "output_type": "display_data"
    }
   ],
   "source": [
    "for dropout in (0.1, 0.5):\n",
    "    log_dir = 'task 2 logs/exp 2.4 - dropout/dropout = ' + str(dropout)\n",
    "    make_experiment(log_dir, dropout=dropout)"
   ]
  },
  {
   "attachments": {},
   "cell_type": "markdown",
   "metadata": {},
   "source": [
    "### 2.5 Размер словаря"
   ]
  },
  {
   "attachments": {},
   "cell_type": "markdown",
   "metadata": {},
   "source": [
    "Исследуется зависимость не от размера словаря напрямую, а от параметра сильно коррелирующего с размером словаря - числа документов в датасете."
   ]
  },
  {
   "cell_type": "code",
   "execution_count": 107,
   "metadata": {},
   "outputs": [
    {
     "data": {
      "application/vnd.jupyter.widget-view+json": {
       "model_id": "7f09653291874ce582db687317924e25",
       "version_major": 2,
       "version_minor": 0
      },
      "text/plain": [
       "epoch:   0%|          | 0/3 [00:00<?, ?it/s]"
      ]
     },
     "metadata": {},
     "output_type": "display_data"
    },
    {
     "data": {
      "application/vnd.jupyter.widget-view+json": {
       "model_id": "b41bc9d937114ea89a5c1885562885f8",
       "version_major": 2,
       "version_minor": 0
      },
      "text/plain": [
       "  0%|          | 0/999 [00:00<?, ?it/s]"
      ]
     },
     "metadata": {},
     "output_type": "display_data"
    },
    {
     "data": {
      "application/vnd.jupyter.widget-view+json": {
       "model_id": "9ece1f2252ac4823ab1ade6e4d481cea",
       "version_major": 2,
       "version_minor": 0
      },
      "text/plain": [
       "  0%|          | 0/999 [00:00<?, ?it/s]"
      ]
     },
     "metadata": {},
     "output_type": "display_data"
    },
    {
     "data": {
      "application/vnd.jupyter.widget-view+json": {
       "model_id": "4dda5e5e6f7e4d38ad0ff06e42f2e922",
       "version_major": 2,
       "version_minor": 0
      },
      "text/plain": [
       "  0%|          | 0/999 [00:00<?, ?it/s]"
      ]
     },
     "metadata": {},
     "output_type": "display_data"
    },
    {
     "data": {
      "application/vnd.jupyter.widget-view+json": {
       "model_id": "6df12903a11a422f8a0fcf302225074c",
       "version_major": 2,
       "version_minor": 0
      },
      "text/plain": [
       "epoch:   0%|          | 0/3 [00:00<?, ?it/s]"
      ]
     },
     "metadata": {},
     "output_type": "display_data"
    },
    {
     "data": {
      "application/vnd.jupyter.widget-view+json": {
       "model_id": "27a4cd7deef9470fbab92916e3e1dbce",
       "version_major": 2,
       "version_minor": 0
      },
      "text/plain": [
       "  0%|          | 0/1508 [00:00<?, ?it/s]"
      ]
     },
     "metadata": {},
     "output_type": "display_data"
    },
    {
     "data": {
      "application/vnd.jupyter.widget-view+json": {
       "model_id": "487244d609664a549da3bc7dbac35544",
       "version_major": 2,
       "version_minor": 0
      },
      "text/plain": [
       "  0%|          | 0/1508 [00:00<?, ?it/s]"
      ]
     },
     "metadata": {},
     "output_type": "display_data"
    },
    {
     "data": {
      "application/vnd.jupyter.widget-view+json": {
       "model_id": "59a28e1d387441fda7ef0940f88ff769",
       "version_major": 2,
       "version_minor": 0
      },
      "text/plain": [
       "  0%|          | 0/1508 [00:00<?, ?it/s]"
      ]
     },
     "metadata": {},
     "output_type": "display_data"
    }
   ],
   "source": [
    "for num_docs in (6000, 9000):\n",
    "    log_dir = 'task 2 logs/exp 2.5 - num_docs/num_docs = ' + str(num_docs)\n",
    "    make_experiment(log_dir, num_docs=num_docs)"
   ]
  },
  {
   "attachments": {},
   "cell_type": "markdown",
   "metadata": {},
   "source": [
    "## 3. Итоги"
   ]
  },
  {
   "attachments": {},
   "cell_type": "markdown",
   "metadata": {},
   "source": [
    "* Скрытый слой LSTM\n",
    "\n",
    "Значительный прирост качества при увеличении размера вектора короткой памяти: HiddenSize = {10, 20, 30, 40} -> WeightedF1 = {0.43, 0.61, 0.74, 0.78}. Ожидаемый результат.\n",
    "\n",
    "* Эмбеддинг\n",
    "\n",
    " Незначительный прирост качества при увеличении размерности пространства эмбеддинга в несколько раз: EmbeddingDim = {50, 100, 200, 300} -> WeightedF1 = {0.43, 0.45, 0.46, 0.51}. Результат не вполне предсказуем. Скорее всего изначальной размерности эмбеддинг векторов равной 50 уже достаточно, чтобы эффективно сжимать датасет небольшого размера.\n",
    "\n",
    "* Слои LSTM\n",
    "\n",
    "Падение качества при переходе от двух слоев к трем: NumLayers = {2, 3, 4, 5} -> WeightedF1 = {0.43, 0.30, 0.31, 0.30}. Результат не вполне предсказуемый, но объяснимый. Запоминание информациии о слишком длинных последовательностях при классификации частей речи скорее вредно чем полезно.\n",
    "\n",
    "* Dropout\n",
    "\n",
    "Падение качества при добавлении ненулевой вероятности дропаута. Результат не вполне предсказуемый, но объяснимый. Dropout = {0.0, 0.1, 0.5} -> WeightedF1 = {0.43, 0.32, 0.30}. Добавление дропаут слоя в сети небольшого размера часто приводит к понижению качества, так как нейронов слишком мало для замещения друг друга.\n",
    "\n",
    "* Словарь\n",
    "\n",
    "Значительный прирост качества при увеличении размера датасета (количества документов) в несколько раз и как следствие размера словаря: NumDocs = {3000, 6000, 9000} -> WeightedF1 = {0.43, 0.72, 0.83}. Ожидаемый результат."
   ]
  },
  {
   "cell_type": "code",
   "execution_count": 108,
   "metadata": {},
   "outputs": [
    {
     "name": "stderr",
     "output_type": "stream",
     "text": [
      "UsageError: Line magic function `%tensorboard` not found.\n"
     ]
    }
   ],
   "source": [
    "%tensorboard --logdir 'task 2 logs/'"
   ]
  }
 ],
 "metadata": {
  "kernelspec": {
   "display_name": "Python 3",
   "language": "python",
   "name": "python3"
  },
  "language_info": {
   "codemirror_mode": {
    "name": "ipython",
    "version": 3
   },
   "file_extension": ".py",
   "mimetype": "text/x-python",
   "name": "python",
   "nbconvert_exporter": "python",
   "pygments_lexer": "ipython3",
   "version": "3.9.13"
  },
  "orig_nbformat": 4
 },
 "nbformat": 4,
 "nbformat_minor": 2
}
