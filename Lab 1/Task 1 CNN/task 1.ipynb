{
 "cells": [
  {
   "cell_type": "markdown",
   "id": "f2596c40",
   "metadata": {},
   "source": [
    "# Шкарбаненко Михаил,  Б05-907"
   ]
  },
  {
   "cell_type": "markdown",
   "id": "2315b74b",
   "metadata": {},
   "source": [
    "# Задача 1. Анализ модели CNN"
   ]
  },
  {
   "cell_type": "markdown",
   "id": "96d278cc",
   "metadata": {},
   "source": [
    "Провести анализ качества аппроксимации выборки EMNIST-letters моделью сверточной нейронной сети в зависимости от:\n",
    "\n",
    "размера ядра (можно ввести ограничение, что на каждом слое размер ядра одинаковый);\n",
    "числа слоев;\n",
    "от пулинга;\n",
    "добавления BatchNorm;\n",
    "параметра dropout.\n",
    "Все выводы должны быть представленны в формате tensorboard (каждый набор параметров, свой график, пример 16-й семинар).\n",
    "\n",
    "P.S. Выборку можно взять из torchvision.\n",
    "\n",
    "P.S.S Если не работает скачиваение EMNIST использовать FahionMnist.\n",
    "\n",
    "Пояснение: В данном задании важно продемонстрировать умение строить различные структуры модели CNN. Не обязательно выполнять перебор всех вариантов нейросети (проходить по сетке гиперпараметров), но описание экспериментов должны присутвовать."
   ]
  },
  {
   "cell_type": "markdown",
   "id": "d4ef4940",
   "metadata": {},
   "source": [
    "## 1. Подготовительная часть"
   ]
  },
  {
   "cell_type": "markdown",
   "id": "6ac47cfc",
   "metadata": {},
   "source": [
    "### Библиотеки"
   ]
  },
  {
   "cell_type": "code",
   "execution_count": 1,
   "id": "34defeaf",
   "metadata": {},
   "outputs": [],
   "source": [
    "from copy import deepcopy\n",
    "\n",
    "import matplotlib.pyplot as plt\n",
    "from matplotlib.image import imread\n",
    "from mpl_toolkits import mplot3d\n",
    "from matplotlib import gridspec\n",
    "from PIL import Image\n",
    "import io\n",
    "from urllib.request import urlopen\n",
    "from skimage.segmentation import mark_boundaries\n",
    "\n",
    "from tqdm.notebook import tqdm\n",
    "import numpy as np\n",
    "import requests\n",
    "import torch\n",
    "import math\n",
    "\n",
    "from sklearn.metrics import classification_report\n",
    "from torch.utils.tensorboard import SummaryWriter\n",
    "\n",
    "from torchvision import datasets, transforms"
   ]
  },
  {
   "cell_type": "code",
   "execution_count": 2,
   "id": "d04bf7a8",
   "metadata": {},
   "outputs": [],
   "source": [
    "import warnings\n",
    "warnings.filterwarnings(\"ignore\")"
   ]
  },
  {
   "cell_type": "code",
   "execution_count": 3,
   "id": "3d01578a",
   "metadata": {},
   "outputs": [],
   "source": [
    "%load_ext tensorboard"
   ]
  },
  {
   "cell_type": "markdown",
   "id": "38f0a04d",
   "metadata": {},
   "source": [
    "### Девайс"
   ]
  },
  {
   "cell_type": "code",
   "execution_count": 4,
   "id": "3cf738da",
   "metadata": {},
   "outputs": [
    {
     "data": {
      "text/plain": [
       "device(type='mps')"
      ]
     },
     "execution_count": 4,
     "metadata": {},
     "output_type": "execute_result"
    }
   ],
   "source": [
    "device = torch.device(\"mps\" if torch.backends.mps.is_available() else \"cpu\")\n",
    "device"
   ]
  },
  {
   "cell_type": "markdown",
   "id": "c715be5b",
   "metadata": {},
   "source": [
    "### Код для обучения модели"
   ]
  },
  {
   "cell_type": "code",
   "execution_count": 5,
   "id": "d7d51909",
   "metadata": {},
   "outputs": [],
   "source": [
    "def train_on_batch(model, x_batch, y_batch, optimizer, loss_function):\n",
    "    model.train()\n",
    "    model.zero_grad()\n",
    "    \n",
    "    output = model(x_batch.to(device))\n",
    "    \n",
    "    loss = loss_function(output, y_batch.to(device))\n",
    "    loss.backward()\n",
    "\n",
    "    optimizer.step()\n",
    "    return loss.cpu().item()"
   ]
  },
  {
   "cell_type": "code",
   "execution_count": 6,
   "id": "e28e2597",
   "metadata": {},
   "outputs": [],
   "source": [
    "def train_epoch(train_generator, model, loss_function, optimizer, callback = None):\n",
    "    epoch_loss = 0\n",
    "    total = 0\n",
    "    for it, (batch_of_x, batch_of_y) in enumerate(train_generator):\n",
    "        batch_loss = train_on_batch(model, batch_of_x.to(device), batch_of_y.to(device), optimizer, loss_function)\n",
    "        \n",
    "        if callback is not None:\n",
    "            callback(model, batch_loss)\n",
    "            \n",
    "        epoch_loss += batch_loss*len(batch_of_x)\n",
    "        total += len(batch_of_x)\n",
    "    \n",
    "    return epoch_loss/total"
   ]
  },
  {
   "cell_type": "code",
   "execution_count": 7,
   "id": "2ed5c063",
   "metadata": {},
   "outputs": [],
   "source": [
    "def trainer(count_of_epoch, \n",
    "            batch_size, \n",
    "            dataset,\n",
    "            model, \n",
    "            loss_function,\n",
    "            optimizer,\n",
    "            lr = 0.001,\n",
    "            callback = None):\n",
    "\n",
    "    optima = optimizer(model.parameters(), lr=lr)\n",
    "    \n",
    "    iterations = tqdm(range(count_of_epoch), desc='epoch')\n",
    "    iterations.set_postfix({'train epoch loss': np.nan})\n",
    "    for it in iterations:\n",
    "        batch_generator = tqdm(\n",
    "            torch.utils.data.DataLoader(dataset=dataset, batch_size=batch_size, shuffle=True), \n",
    "            leave=False, total=len(dataset)//batch_size+(len(dataset)%batch_size> 0))\n",
    "        \n",
    "        epoch_loss = train_epoch(train_generator=batch_generator, \n",
    "                    model=model, \n",
    "                    loss_function=loss_function, \n",
    "                    optimizer=optima, \n",
    "                    callback=callback)\n",
    "        \n",
    "        iterations.set_postfix({'train epoch loss': epoch_loss})"
   ]
  },
  {
   "cell_type": "markdown",
   "id": "2bded50b",
   "metadata": {},
   "source": [
    "### Логгер"
   ]
  },
  {
   "cell_type": "code",
   "execution_count": 8,
   "id": "a8873bd1",
   "metadata": {},
   "outputs": [],
   "source": [
    "class Callback():\n",
    "    def __init__(self, writer, dataset, loss_function, delimeter=100, batch_size=64):\n",
    "        self.step = 0\n",
    "        self.writer = writer\n",
    "        self.delimeter = delimeter\n",
    "        self.loss_function = loss_function\n",
    "        self.batch_size = batch_size\n",
    "        self.dataset = dataset\n",
    "\n",
    "    def forward(self, model, loss):\n",
    "        self.step += 1\n",
    "        self.writer.add_scalar('LOSS/train', loss, self.step)\n",
    "        \n",
    "        if self.step % self.delimeter == 0:\n",
    "            \n",
    "            self.writer.add_graph(model, self.dataset[0][0].view(1,1,28,28).to(model.device))\n",
    "            \n",
    "            batch_generator = torch.utils.data.DataLoader(dataset = self.dataset, \n",
    "                                                          batch_size=self.batch_size)\n",
    "            \n",
    "            pred = []\n",
    "            real = []\n",
    "            test_loss = 0\n",
    "            for it, (x_batch, y_batch) in enumerate(batch_generator):\n",
    "                x_batch = x_batch.to(model.device)\n",
    "                y_batch = y_batch.to(model.device)\n",
    "\n",
    "                with torch.no_grad():\n",
    "\n",
    "                    output = model(x_batch)\n",
    "\n",
    "                test_loss += self.loss_function(output, y_batch).cpu().item()*len(x_batch)\n",
    "\n",
    "                pred.extend(torch.argmax(output, dim=-1).cpu().numpy().tolist())\n",
    "                real.extend(y_batch.cpu().numpy().tolist())\n",
    "            \n",
    "            test_loss /= len(self.dataset)\n",
    "            self.writer.add_scalar('LOSS/test', test_loss, self.step)\n",
    "            self.writer.add_text('REPORT/test', str(classification_report(real, pred)), self.step)\n",
    "            \n",
    "            x = x_batch[-10:].to(model.device)\n",
    "            y = model.layers.CONV1_conv(x)\n",
    "            num_images = 5\n",
    "            if model.num_conv_layers != 1:\n",
    "                z = model.layers[0:model.conv_layer_size+1](x)\n",
    "                num_images += 16\n",
    "            fig = plt.figure(figsize=(30, 15))\n",
    "            gs = gridspec.GridSpec(10, num_images)\n",
    "            ax = np.empty([10, num_images], dtype=object)\n",
    "            for i in range(len(x)):\n",
    "                for j in range(num_images):\n",
    "                    ax[i][j] = fig.add_subplot(gs[i, j])\n",
    "                    ax[i][j].axis(\"off\")\n",
    "            for i in range(len(x)):\n",
    "                ax[i][0].imshow(x.cpu().data[i, 0].numpy())\n",
    "                for j in range(1, 5):\n",
    "                    ax[i][j].imshow(y.cpu().data[i, j-1].numpy())\n",
    "                for j in range(5, num_images):\n",
    "                    ax[i][j].imshow(z.cpu().data[i, j-5].numpy())\n",
    "            self.writer.add_figure('CNN/convs', fig, self.step)\n",
    "          \n",
    "    def __call__(self, model, loss):\n",
    "        return self.forward(model, loss)"
   ]
  },
  {
   "cell_type": "markdown",
   "id": "83f3df2e",
   "metadata": {},
   "source": [
    "### Конструктор архитектуры нейросети"
   ]
  },
  {
   "cell_type": "code",
   "execution_count": 9,
   "id": "468d1f10",
   "metadata": {},
   "outputs": [],
   "source": [
    "def add_conv_layer(layers, img_length, layer_num, in_channels, out_channels, \\\n",
    "                   conv_ks, pool_ks, dropout, batchnorm):\n",
    "    layer_num = 'CONV' + str(layer_num) + '_'\n",
    "    layers.add_module(layer_num + 'conv', torch.nn.Conv2d(in_channels, out_channels, kernel_size=conv_ks))\n",
    "    img_length = max(img_length - conv_ks + 1, 0)\n",
    "    if dropout:\n",
    "        layers.add_module(layer_num + 'dropout', torch.nn.Dropout())\n",
    "    if batchnorm:\n",
    "        layers.add_module(layer_num + 'batchnorm' + layer_num, torch.nn.BatchNorm2d(out_channels))\n",
    "    layers.add_module(layer_num + 'maxpool', torch.nn.MaxPool2d(kernel_size=pool_ks))\n",
    "    img_length = (img_length - pool_ks) // pool_ks + 1\n",
    "    layers.add_module(layer_num + 'relu', torch.nn.ReLU())\n",
    "    return img_length\n",
    "\n",
    "def add_lin_layer(layers, layer_num, in_size, out_size):\n",
    "    layer_num = 'LIN' + str(layer_num) + ' '\n",
    "    layers.add_module(layer_num + 'lin', torch.nn.Linear(in_size, out_size))        \n",
    "    layers.add_module(layer_num + 'relu', torch.nn.ReLU())\n",
    "    \n",
    "class CNN(torch.nn.Module):\n",
    "    @property\n",
    "    def device(self):\n",
    "        for p in self.parameters():\n",
    "            return p.device\n",
    "        \n",
    "    def __init__(self, conv_ks=3, pool_ks=2, num_conv_layers=1, num_lin_layers=1, \\\n",
    "                 batchnorm=False, dropout=False, num_classes=26, img_length=28):\n",
    "        super(CNN, self).__init__()\n",
    "        self.num_conv_layers = num_conv_layers\n",
    "        self.conv_layer_size = 3 + int(batchnorm) + int(dropout)\n",
    "        self.layers = torch.nn.Sequential()\n",
    "        in_channels, out_channels = 1, 4\n",
    "        for i in range(1, num_conv_layers+1):\n",
    "            img_length = add_conv_layer(self.layers, img_length, i, in_channels, out_channels, \\\n",
    "                                        conv_ks, pool_ks, dropout, batchnorm)\n",
    "            print(img_length)\n",
    "            in_channels, out_channels = out_channels, out_channels*4\n",
    "        self.layers.add_module('flatten', torch.nn.Flatten())\n",
    "        in_size = int(img_length * img_length * (4 ** num_conv_layers))\n",
    "        out_size = 120\n",
    "        for i in range(1, num_lin_layers+1):\n",
    "            add_lin_layer(self.layers, i, in_size, out_size)\n",
    "            in_size = out_size\n",
    "            out_size = in_size\n",
    "        self.layers.add_module('output lin', torch.nn.Linear(out_size, num_classes))\n",
    "        self.layers.add_module('softmax', torch.nn.Softmax())\n",
    "\n",
    "    def forward(self, input):\n",
    "        return self.layers(input)"
   ]
  },
  {
   "cell_type": "markdown",
   "id": "dc5a5fb6",
   "metadata": {},
   "source": [
    "### Датасет"
   ]
  },
  {
   "cell_type": "code",
   "execution_count": 10,
   "id": "4301f3e7",
   "metadata": {},
   "outputs": [],
   "source": [
    "EMNIST_train = datasets.EMNIST(root='./emnist_data/', split='letters', train=True, download=True, \n",
    "                             transform=transforms.ToTensor())\n",
    "\n",
    "EMNIST_test = datasets.EMNIST(root='./emnist_data/', split='letters', train=False, download=True,\n",
    "                            transform=transforms.ToTensor())"
   ]
  },
  {
   "cell_type": "markdown",
   "id": "24295e63",
   "metadata": {},
   "source": [
    "## 2. Основная часть. Анализ перфоманса модели в зависимости от параметров архитектуры"
   ]
  },
  {
   "cell_type": "code",
   "execution_count": 11,
   "id": "a4a0fafd",
   "metadata": {},
   "outputs": [],
   "source": [
    "def show_images(images, preds=None):\n",
    "    n = len(images[0])\n",
    "    fig, axs = plt.subplots(2, math.ceil(n/2), figsize=(18, 7))\n",
    "    for i, ax in enumerate(axs.flat):\n",
    "        ax.imshow(images[0][i].permute(1, 2, 0))\n",
    "        ax.set_xticks([])\n",
    "        ax.set_yticks([])\n",
    "        if preds is not None:\n",
    "            target = images[1][i] \n",
    "            pred = torch.argmax(preds[i])\n",
    "            conf = preds[i][pred]\n",
    "            ax.set_title(\"target: {} pred: {} conf: {}%\".format(target, pred, round(conf.item()*100, 1)))\n",
    "    fig.subplots_adjust(hspace=0.01)"
   ]
  },
  {
   "cell_type": "code",
   "execution_count": 12,
   "id": "2b8cb527",
   "metadata": {},
   "outputs": [],
   "source": [
    "def make_experiment(log_dir, conv_ks=3, pool_ks=2, num_conv_layers=1, num_lin_layers=1, batchnorm=False, dropout=False):\n",
    "    loss_function = torch.nn.CrossEntropyLoss()\n",
    "    optimizer = torch.optim.Adam\n",
    "    model = CNN(conv_ks, pool_ks, num_conv_layers, num_lin_layers, batchnorm, dropout).to(device)\n",
    "    log_dir = log_dir\n",
    "    writer = SummaryWriter(log_dir = log_dir)\n",
    "    call = Callback(writer, EMNIST_test, loss_function)\n",
    "    trainer(count_of_epoch = 5,\n",
    "            batch_size = 64,\n",
    "            dataset = EMNIST_train,\n",
    "            model = model,\n",
    "            loss_function = loss_function,\n",
    "            optimizer = optimizer,\n",
    "            lr = 0.001,\n",
    "            callback = call)"
   ]
  },
  {
   "cell_type": "markdown",
   "id": "a951b488",
   "metadata": {},
   "source": [
    "### 2.0 Пример работы модели до и после обучения на случайном сэмпле картинок "
   ]
  },
  {
   "cell_type": "markdown",
   "id": "d5ad7cc2",
   "metadata": {},
   "source": [
    "### Базовая конфигурация модели"
   ]
  },
  {
   "cell_type": "code",
   "execution_count": 13,
   "id": "e6a31311",
   "metadata": {},
   "outputs": [
    {
     "name": "stdout",
     "output_type": "stream",
     "text": [
      "13\n"
     ]
    },
    {
     "data": {
      "text/plain": [
       "CNN(\n",
       "  (layers): Sequential(\n",
       "    (CONV1_conv): Conv2d(1, 4, kernel_size=(3, 3), stride=(1, 1))\n",
       "    (CONV1_maxpool): MaxPool2d(kernel_size=2, stride=2, padding=0, dilation=1, ceil_mode=False)\n",
       "    (CONV1_relu): ReLU()\n",
       "    (flatten): Flatten(start_dim=1, end_dim=-1)\n",
       "    (LIN1 lin): Linear(in_features=676, out_features=120, bias=True)\n",
       "    (LIN1 relu): ReLU()\n",
       "    (output lin): Linear(in_features=120, out_features=26, bias=True)\n",
       "    (softmax): Softmax(dim=None)\n",
       "  )\n",
       ")"
      ]
     },
     "execution_count": 13,
     "metadata": {},
     "output_type": "execute_result"
    }
   ],
   "source": [
    "model = CNN().to(device)\n",
    "model"
   ]
  },
  {
   "cell_type": "markdown",
   "id": "82cf8255",
   "metadata": {},
   "source": [
    "#### До"
   ]
  },
  {
   "cell_type": "code",
   "execution_count": 14,
   "id": "e69e7fbf",
   "metadata": {},
   "outputs": [
    {
     "data": {
      "image/png": "[encoded data removed]",
      "text/plain": [
       "<Figure size 1800x700 with 10 Axes>"
      ]
     },
     "metadata": {},
     "output_type": "display_data"
    }
   ],
   "source": [
    "sample_loader = torch.utils.data.DataLoader(dataset=EMNIST_test, batch_size=10, shuffle=True)\n",
    "images = next(iter(sample_loader))  \n",
    "preds = model(images[0].to(device)).to('cpu')\n",
    "show_images(images, preds)"
   ]
  },
  {
   "cell_type": "markdown",
   "id": "ea168de8",
   "metadata": {},
   "source": [
    "#### После"
   ]
  },
  {
   "cell_type": "code",
   "execution_count": 15,
   "id": "33e8a9ef",
   "metadata": {},
   "outputs": [
    {
     "name": "stdout",
     "output_type": "stream",
     "text": [
      "13\n"
     ]
    },
    {
     "data": {
      "application/vnd.jupyter.widget-view+json": {
       "model_id": "cdf21415159e4401a8d5f695dd522b7f",
       "version_major": 2,
       "version_minor": 0
      },
      "text/plain": [
       "epoch:   0%|          | 0/5 [00:00<?, ?it/s]"
      ]
     },
     "metadata": {},
     "output_type": "display_data"
    },
    {
     "data": {
      "application/vnd.jupyter.widget-view+json": {
       "model_id": "",
       "version_major": 2,
       "version_minor": 0
      },
      "text/plain": [
       "  0%|          | 0/1950 [00:00<?, ?it/s]"
      ]
     },
     "metadata": {},
     "output_type": "display_data"
    },
    {
     "data": {
      "application/vnd.jupyter.widget-view+json": {
       "model_id": "",
       "version_major": 2,
       "version_minor": 0
      },
      "text/plain": [
       "  0%|          | 0/1950 [00:00<?, ?it/s]"
      ]
     },
     "metadata": {},
     "output_type": "display_data"
    },
    {
     "data": {
      "application/vnd.jupyter.widget-view+json": {
       "model_id": "",
       "version_major": 2,
       "version_minor": 0
      },
      "text/plain": [
       "  0%|          | 0/1950 [00:00<?, ?it/s]"
      ]
     },
     "metadata": {},
     "output_type": "display_data"
    },
    {
     "data": {
      "application/vnd.jupyter.widget-view+json": {
       "model_id": "",
       "version_major": 2,
       "version_minor": 0
      },
      "text/plain": [
       "  0%|          | 0/1950 [00:00<?, ?it/s]"
      ]
     },
     "metadata": {},
     "output_type": "display_data"
    },
    {
     "data": {
      "application/vnd.jupyter.widget-view+json": {
       "model_id": "",
       "version_major": 2,
       "version_minor": 0
      },
      "text/plain": [
       "  0%|          | 0/1950 [00:00<?, ?it/s]"
      ]
     },
     "metadata": {},
     "output_type": "display_data"
    }
   ],
   "source": [
    "loss_function = torch.nn.CrossEntropyLoss()\n",
    "optimizer = torch.optim.Adam\n",
    "model = CNN().to(device)\n",
    "log_dir = 'logs/exp 2.0 - perfomance with basic conf/'\n",
    "writer = SummaryWriter(log_dir = log_dir)\n",
    "call = Callback(writer, EMNIST_test, loss_function)\n",
    "trainer(count_of_epoch = 5,\n",
    "        batch_size = 64,\n",
    "        dataset = EMNIST_train,\n",
    "        model = model,\n",
    "        loss_function = loss_function,\n",
    "        optimizer = optimizer,\n",
    "        lr = 0.001,\n",
    "        callback = call)"
   ]
  },
  {
   "cell_type": "code",
   "execution_count": 16,
   "id": "afecf5be",
   "metadata": {},
   "outputs": [
    {
     "data": {
      "image/png": "[encoded data removed]",
      "text/plain": [
       "<Figure size 1800x700 with 10 Axes>"
      ]
     },
     "metadata": {},
     "output_type": "display_data"
    }
   ],
   "source": [
    "preds = model(images[0].to(device))\n",
    "show_images(images, preds)"
   ]
  },
  {
   "cell_type": "markdown",
   "id": "43145812",
   "metadata": {},
   "source": [
    "Видно, что до обучения веса инициализировались рандомным образом и модель выдавала случайные предикт. После обучения модель в среднем распознает 9 картинок из 10 при случайном сэмплировании."
   ]
  },
  {
   "cell_type": "markdown",
   "id": "e4a8917f",
   "metadata": {},
   "source": [
    "### 2.1 Варьирование размера ядра свертки "
   ]
  },
  {
   "cell_type": "code",
   "execution_count": 17,
   "id": "48b859b3",
   "metadata": {},
   "outputs": [
    {
     "name": "stdout",
     "output_type": "stream",
     "text": [
      "13\n"
     ]
    },
    {
     "data": {
      "application/vnd.jupyter.widget-view+json": {
       "model_id": "65536d2418ac4759a3489b53a2507cb6",
       "version_major": 2,
       "version_minor": 0
      },
      "text/plain": [
       "epoch:   0%|          | 0/5 [00:00<?, ?it/s]"
      ]
     },
     "metadata": {},
     "output_type": "display_data"
    },
    {
     "data": {
      "application/vnd.jupyter.widget-view+json": {
       "model_id": "",
       "version_major": 2,
       "version_minor": 0
      },
      "text/plain": [
       "  0%|          | 0/1950 [00:00<?, ?it/s]"
      ]
     },
     "metadata": {},
     "output_type": "display_data"
    },
    {
     "data": {
      "application/vnd.jupyter.widget-view+json": {
       "model_id": "",
       "version_major": 2,
       "version_minor": 0
      },
      "text/plain": [
       "  0%|          | 0/1950 [00:00<?, ?it/s]"
      ]
     },
     "metadata": {},
     "output_type": "display_data"
    },
    {
     "data": {
      "application/vnd.jupyter.widget-view+json": {
       "model_id": "",
       "version_major": 2,
       "version_minor": 0
      },
      "text/plain": [
       "  0%|          | 0/1950 [00:00<?, ?it/s]"
      ]
     },
     "metadata": {},
     "output_type": "display_data"
    },
    {
     "data": {
      "application/vnd.jupyter.widget-view+json": {
       "model_id": "",
       "version_major": 2,
       "version_minor": 0
      },
      "text/plain": [
       "  0%|          | 0/1950 [00:00<?, ?it/s]"
      ]
     },
     "metadata": {},
     "output_type": "display_data"
    },
    {
     "data": {
      "application/vnd.jupyter.widget-view+json": {
       "model_id": "",
       "version_major": 2,
       "version_minor": 0
      },
      "text/plain": [
       "  0%|          | 0/1950 [00:00<?, ?it/s]"
      ]
     },
     "metadata": {},
     "output_type": "display_data"
    },
    {
     "name": "stdout",
     "output_type": "stream",
     "text": [
      "13\n"
     ]
    },
    {
     "data": {
      "application/vnd.jupyter.widget-view+json": {
       "model_id": "76839d8370bc40e78bc412807d8ea50e",
       "version_major": 2,
       "version_minor": 0
      },
      "text/plain": [
       "epoch:   0%|          | 0/5 [00:00<?, ?it/s]"
      ]
     },
     "metadata": {},
     "output_type": "display_data"
    },
    {
     "data": {
      "application/vnd.jupyter.widget-view+json": {
       "model_id": "",
       "version_major": 2,
       "version_minor": 0
      },
      "text/plain": [
       "  0%|          | 0/1950 [00:00<?, ?it/s]"
      ]
     },
     "metadata": {},
     "output_type": "display_data"
    },
    {
     "data": {
      "application/vnd.jupyter.widget-view+json": {
       "model_id": "",
       "version_major": 2,
       "version_minor": 0
      },
      "text/plain": [
       "  0%|          | 0/1950 [00:00<?, ?it/s]"
      ]
     },
     "metadata": {},
     "output_type": "display_data"
    },
    {
     "data": {
      "application/vnd.jupyter.widget-view+json": {
       "model_id": "",
       "version_major": 2,
       "version_minor": 0
      },
      "text/plain": [
       "  0%|          | 0/1950 [00:00<?, ?it/s]"
      ]
     },
     "metadata": {},
     "output_type": "display_data"
    },
    {
     "data": {
      "application/vnd.jupyter.widget-view+json": {
       "model_id": "",
       "version_major": 2,
       "version_minor": 0
      },
      "text/plain": [
       "  0%|          | 0/1950 [00:00<?, ?it/s]"
      ]
     },
     "metadata": {},
     "output_type": "display_data"
    },
    {
     "data": {
      "application/vnd.jupyter.widget-view+json": {
       "model_id": "",
       "version_major": 2,
       "version_minor": 0
      },
      "text/plain": [
       "  0%|          | 0/1950 [00:00<?, ?it/s]"
      ]
     },
     "metadata": {},
     "output_type": "display_data"
    },
    {
     "name": "stdout",
     "output_type": "stream",
     "text": [
      "12\n"
     ]
    },
    {
     "data": {
      "application/vnd.jupyter.widget-view+json": {
       "model_id": "6fa3778a847c40ad9a5c3f68b0340ab0",
       "version_major": 2,
       "version_minor": 0
      },
      "text/plain": [
       "epoch:   0%|          | 0/5 [00:00<?, ?it/s]"
      ]
     },
     "metadata": {},
     "output_type": "display_data"
    },
    {
     "data": {
      "application/vnd.jupyter.widget-view+json": {
       "model_id": "",
       "version_major": 2,
       "version_minor": 0
      },
      "text/plain": [
       "  0%|          | 0/1950 [00:00<?, ?it/s]"
      ]
     },
     "metadata": {},
     "output_type": "display_data"
    },
    {
     "data": {
      "application/vnd.jupyter.widget-view+json": {
       "model_id": "",
       "version_major": 2,
       "version_minor": 0
      },
      "text/plain": [
       "  0%|          | 0/1950 [00:00<?, ?it/s]"
      ]
     },
     "metadata": {},
     "output_type": "display_data"
    },
    {
     "data": {
      "application/vnd.jupyter.widget-view+json": {
       "model_id": "",
       "version_major": 2,
       "version_minor": 0
      },
      "text/plain": [
       "  0%|          | 0/1950 [00:00<?, ?it/s]"
      ]
     },
     "metadata": {},
     "output_type": "display_data"
    },
    {
     "data": {
      "application/vnd.jupyter.widget-view+json": {
       "model_id": "",
       "version_major": 2,
       "version_minor": 0
      },
      "text/plain": [
       "  0%|          | 0/1950 [00:00<?, ?it/s]"
      ]
     },
     "metadata": {},
     "output_type": "display_data"
    },
    {
     "data": {
      "application/vnd.jupyter.widget-view+json": {
       "model_id": "",
       "version_major": 2,
       "version_minor": 0
      },
      "text/plain": [
       "  0%|          | 0/1950 [00:00<?, ?it/s]"
      ]
     },
     "metadata": {},
     "output_type": "display_data"
    },
    {
     "name": "stdout",
     "output_type": "stream",
     "text": [
      "12\n"
     ]
    },
    {
     "data": {
      "application/vnd.jupyter.widget-view+json": {
       "model_id": "db0e4e2e9eec408db3149a8320655059",
       "version_major": 2,
       "version_minor": 0
      },
      "text/plain": [
       "epoch:   0%|          | 0/5 [00:00<?, ?it/s]"
      ]
     },
     "metadata": {},
     "output_type": "display_data"
    },
    {
     "data": {
      "application/vnd.jupyter.widget-view+json": {
       "model_id": "",
       "version_major": 2,
       "version_minor": 0
      },
      "text/plain": [
       "  0%|          | 0/1950 [00:00<?, ?it/s]"
      ]
     },
     "metadata": {},
     "output_type": "display_data"
    },
    {
     "data": {
      "application/vnd.jupyter.widget-view+json": {
       "model_id": "",
       "version_major": 2,
       "version_minor": 0
      },
      "text/plain": [
       "  0%|          | 0/1950 [00:00<?, ?it/s]"
      ]
     },
     "metadata": {},
     "output_type": "display_data"
    },
    {
     "data": {
      "application/vnd.jupyter.widget-view+json": {
       "model_id": "",
       "version_major": 2,
       "version_minor": 0
      },
      "text/plain": [
       "  0%|          | 0/1950 [00:00<?, ?it/s]"
      ]
     },
     "metadata": {},
     "output_type": "display_data"
    },
    {
     "data": {
      "application/vnd.jupyter.widget-view+json": {
       "model_id": "",
       "version_major": 2,
       "version_minor": 0
      },
      "text/plain": [
       "  0%|          | 0/1950 [00:00<?, ?it/s]"
      ]
     },
     "metadata": {},
     "output_type": "display_data"
    },
    {
     "data": {
      "application/vnd.jupyter.widget-view+json": {
       "model_id": "",
       "version_major": 2,
       "version_minor": 0
      },
      "text/plain": [
       "  0%|          | 0/1950 [00:00<?, ?it/s]"
      ]
     },
     "metadata": {},
     "output_type": "display_data"
    }
   ],
   "source": [
    "for size in [2, 4, 5]:\n",
    "    log_dir = 'logs/exp 2.1 - conv kernel size/kernel_size = ' + str(size)\n",
    "    make_experiment(log_dir, conv_ks=size)"
   ]
  },
  {
   "cell_type": "markdown",
   "id": "8bba6e83",
   "metadata": {},
   "source": [
    "### 2.2 Варьирование размера ядра пуллинга"
   ]
  },
  {
   "cell_type": "code",
   "execution_count": 18,
   "id": "139eb41e",
   "metadata": {},
   "outputs": [
    {
     "name": "stdout",
     "output_type": "stream",
     "text": [
      "8\n"
     ]
    },
    {
     "data": {
      "application/vnd.jupyter.widget-view+json": {
       "model_id": "4514a3faabcb49eb9c5921d340ee2516",
       "version_major": 2,
       "version_minor": 0
      },
      "text/plain": [
       "epoch:   0%|          | 0/5 [00:00<?, ?it/s]"
      ]
     },
     "metadata": {},
     "output_type": "display_data"
    },
    {
     "data": {
      "application/vnd.jupyter.widget-view+json": {
       "model_id": "",
       "version_major": 2,
       "version_minor": 0
      },
      "text/plain": [
       "  0%|          | 0/1950 [00:00<?, ?it/s]"
      ]
     },
     "metadata": {},
     "output_type": "display_data"
    },
    {
     "data": {
      "application/vnd.jupyter.widget-view+json": {
       "model_id": "",
       "version_major": 2,
       "version_minor": 0
      },
      "text/plain": [
       "  0%|          | 0/1950 [00:00<?, ?it/s]"
      ]
     },
     "metadata": {},
     "output_type": "display_data"
    },
    {
     "data": {
      "application/vnd.jupyter.widget-view+json": {
       "model_id": "",
       "version_major": 2,
       "version_minor": 0
      },
      "text/plain": [
       "  0%|          | 0/1950 [00:00<?, ?it/s]"
      ]
     },
     "metadata": {},
     "output_type": "display_data"
    },
    {
     "data": {
      "application/vnd.jupyter.widget-view+json": {
       "model_id": "",
       "version_major": 2,
       "version_minor": 0
      },
      "text/plain": [
       "  0%|          | 0/1950 [00:00<?, ?it/s]"
      ]
     },
     "metadata": {},
     "output_type": "display_data"
    },
    {
     "data": {
      "application/vnd.jupyter.widget-view+json": {
       "model_id": "",
       "version_major": 2,
       "version_minor": 0
      },
      "text/plain": [
       "  0%|          | 0/1950 [00:00<?, ?it/s]"
      ]
     },
     "metadata": {},
     "output_type": "display_data"
    },
    {
     "name": "stdout",
     "output_type": "stream",
     "text": [
      "6\n"
     ]
    },
    {
     "data": {
      "application/vnd.jupyter.widget-view+json": {
       "model_id": "029fef55aa444e609feaaa2f79f2d0b9",
       "version_major": 2,
       "version_minor": 0
      },
      "text/plain": [
       "epoch:   0%|          | 0/5 [00:00<?, ?it/s]"
      ]
     },
     "metadata": {},
     "output_type": "display_data"
    },
    {
     "data": {
      "application/vnd.jupyter.widget-view+json": {
       "model_id": "",
       "version_major": 2,
       "version_minor": 0
      },
      "text/plain": [
       "  0%|          | 0/1950 [00:00<?, ?it/s]"
      ]
     },
     "metadata": {},
     "output_type": "display_data"
    },
    {
     "data": {
      "application/vnd.jupyter.widget-view+json": {
       "model_id": "",
       "version_major": 2,
       "version_minor": 0
      },
      "text/plain": [
       "  0%|          | 0/1950 [00:00<?, ?it/s]"
      ]
     },
     "metadata": {},
     "output_type": "display_data"
    },
    {
     "data": {
      "application/vnd.jupyter.widget-view+json": {
       "model_id": "",
       "version_major": 2,
       "version_minor": 0
      },
      "text/plain": [
       "  0%|          | 0/1950 [00:00<?, ?it/s]"
      ]
     },
     "metadata": {},
     "output_type": "display_data"
    },
    {
     "data": {
      "application/vnd.jupyter.widget-view+json": {
       "model_id": "",
       "version_major": 2,
       "version_minor": 0
      },
      "text/plain": [
       "  0%|          | 0/1950 [00:00<?, ?it/s]"
      ]
     },
     "metadata": {},
     "output_type": "display_data"
    },
    {
     "data": {
      "application/vnd.jupyter.widget-view+json": {
       "model_id": "",
       "version_major": 2,
       "version_minor": 0
      },
      "text/plain": [
       "  0%|          | 0/1950 [00:00<?, ?it/s]"
      ]
     },
     "metadata": {},
     "output_type": "display_data"
    },
    {
     "name": "stdout",
     "output_type": "stream",
     "text": [
      "5\n"
     ]
    },
    {
     "data": {
      "application/vnd.jupyter.widget-view+json": {
       "model_id": "3bff7a72204d492cb73593056bde95e2",
       "version_major": 2,
       "version_minor": 0
      },
      "text/plain": [
       "epoch:   0%|          | 0/5 [00:00<?, ?it/s]"
      ]
     },
     "metadata": {},
     "output_type": "display_data"
    },
    {
     "data": {
      "application/vnd.jupyter.widget-view+json": {
       "model_id": "",
       "version_major": 2,
       "version_minor": 0
      },
      "text/plain": [
       "  0%|          | 0/1950 [00:00<?, ?it/s]"
      ]
     },
     "metadata": {},
     "output_type": "display_data"
    },
    {
     "data": {
      "application/vnd.jupyter.widget-view+json": {
       "model_id": "",
       "version_major": 2,
       "version_minor": 0
      },
      "text/plain": [
       "  0%|          | 0/1950 [00:00<?, ?it/s]"
      ]
     },
     "metadata": {},
     "output_type": "display_data"
    },
    {
     "data": {
      "application/vnd.jupyter.widget-view+json": {
       "model_id": "",
       "version_major": 2,
       "version_minor": 0
      },
      "text/plain": [
       "  0%|          | 0/1950 [00:00<?, ?it/s]"
      ]
     },
     "metadata": {},
     "output_type": "display_data"
    },
    {
     "data": {
      "application/vnd.jupyter.widget-view+json": {
       "model_id": "",
       "version_major": 2,
       "version_minor": 0
      },
      "text/plain": [
       "  0%|          | 0/1950 [00:00<?, ?it/s]"
      ]
     },
     "metadata": {},
     "output_type": "display_data"
    },
    {
     "data": {
      "application/vnd.jupyter.widget-view+json": {
       "model_id": "",
       "version_major": 2,
       "version_minor": 0
      },
      "text/plain": [
       "  0%|          | 0/1950 [00:00<?, ?it/s]"
      ]
     },
     "metadata": {},
     "output_type": "display_data"
    }
   ],
   "source": [
    "for size in [3, 4, 5]:\n",
    "    log_dir = 'logs/exp 2.2 - pool kernel size/kernel_size = ' + str(size)\n",
    "    make_experiment(log_dir, pool_ks=size)"
   ]
  },
  {
   "cell_type": "markdown",
   "id": "87d47ab3",
   "metadata": {},
   "source": [
    "### 2.3 Варьирование числа сверточных слоев"
   ]
  },
  {
   "cell_type": "code",
   "execution_count": 19,
   "id": "b3d5ab3b",
   "metadata": {},
   "outputs": [
    {
     "name": "stdout",
     "output_type": "stream",
     "text": [
      "13\n",
      "5\n"
     ]
    },
    {
     "data": {
      "application/vnd.jupyter.widget-view+json": {
       "model_id": "b467dc273d8941f69e9f0405d7f4b054",
       "version_major": 2,
       "version_minor": 0
      },
      "text/plain": [
       "epoch:   0%|          | 0/5 [00:00<?, ?it/s]"
      ]
     },
     "metadata": {},
     "output_type": "display_data"
    },
    {
     "data": {
      "application/vnd.jupyter.widget-view+json": {
       "model_id": "",
       "version_major": 2,
       "version_minor": 0
      },
      "text/plain": [
       "  0%|          | 0/1950 [00:00<?, ?it/s]"
      ]
     },
     "metadata": {},
     "output_type": "display_data"
    },
    {
     "data": {
      "application/vnd.jupyter.widget-view+json": {
       "model_id": "",
       "version_major": 2,
       "version_minor": 0
      },
      "text/plain": [
       "  0%|          | 0/1950 [00:00<?, ?it/s]"
      ]
     },
     "metadata": {},
     "output_type": "display_data"
    },
    {
     "data": {
      "application/vnd.jupyter.widget-view+json": {
       "model_id": "",
       "version_major": 2,
       "version_minor": 0
      },
      "text/plain": [
       "  0%|          | 0/1950 [00:00<?, ?it/s]"
      ]
     },
     "metadata": {},
     "output_type": "display_data"
    },
    {
     "data": {
      "application/vnd.jupyter.widget-view+json": {
       "model_id": "",
       "version_major": 2,
       "version_minor": 0
      },
      "text/plain": [
       "  0%|          | 0/1950 [00:00<?, ?it/s]"
      ]
     },
     "metadata": {},
     "output_type": "display_data"
    },
    {
     "data": {
      "application/vnd.jupyter.widget-view+json": {
       "model_id": "",
       "version_major": 2,
       "version_minor": 0
      },
      "text/plain": [
       "  0%|          | 0/1950 [00:00<?, ?it/s]"
      ]
     },
     "metadata": {},
     "output_type": "display_data"
    },
    {
     "name": "stdout",
     "output_type": "stream",
     "text": [
      "13\n",
      "5\n",
      "1\n"
     ]
    },
    {
     "data": {
      "application/vnd.jupyter.widget-view+json": {
       "model_id": "b94af348ec944ca69c5bcf59d9469452",
       "version_major": 2,
       "version_minor": 0
      },
      "text/plain": [
       "epoch:   0%|          | 0/5 [00:00<?, ?it/s]"
      ]
     },
     "metadata": {},
     "output_type": "display_data"
    },
    {
     "data": {
      "application/vnd.jupyter.widget-view+json": {
       "model_id": "",
       "version_major": 2,
       "version_minor": 0
      },
      "text/plain": [
       "  0%|          | 0/1950 [00:00<?, ?it/s]"
      ]
     },
     "metadata": {},
     "output_type": "display_data"
    },
    {
     "data": {
      "application/vnd.jupyter.widget-view+json": {
       "model_id": "",
       "version_major": 2,
       "version_minor": 0
      },
      "text/plain": [
       "  0%|          | 0/1950 [00:00<?, ?it/s]"
      ]
     },
     "metadata": {},
     "output_type": "display_data"
    },
    {
     "data": {
      "application/vnd.jupyter.widget-view+json": {
       "model_id": "",
       "version_major": 2,
       "version_minor": 0
      },
      "text/plain": [
       "  0%|          | 0/1950 [00:00<?, ?it/s]"
      ]
     },
     "metadata": {},
     "output_type": "display_data"
    },
    {
     "data": {
      "application/vnd.jupyter.widget-view+json": {
       "model_id": "",
       "version_major": 2,
       "version_minor": 0
      },
      "text/plain": [
       "  0%|          | 0/1950 [00:00<?, ?it/s]"
      ]
     },
     "metadata": {},
     "output_type": "display_data"
    },
    {
     "data": {
      "application/vnd.jupyter.widget-view+json": {
       "model_id": "",
       "version_major": 2,
       "version_minor": 0
      },
      "text/plain": [
       "  0%|          | 0/1950 [00:00<?, ?it/s]"
      ]
     },
     "metadata": {},
     "output_type": "display_data"
    }
   ],
   "source": [
    "for n in [2, 3]:\n",
    "    log_dir = 'logs/exp 2.3 - num conv layers/num layers = ' + str(n)\n",
    "    make_experiment(log_dir, num_conv_layers=n)"
   ]
  },
  {
   "cell_type": "markdown",
   "id": "30678595",
   "metadata": {},
   "source": [
    "### 2.4 Варьирование числа линейных слоев"
   ]
  },
  {
   "cell_type": "code",
   "execution_count": 20,
   "id": "15447726",
   "metadata": {},
   "outputs": [
    {
     "name": "stdout",
     "output_type": "stream",
     "text": [
      "13\n"
     ]
    },
    {
     "data": {
      "application/vnd.jupyter.widget-view+json": {
       "model_id": "0a0ec58f9e2d497c99655effe9d0e31a",
       "version_major": 2,
       "version_minor": 0
      },
      "text/plain": [
       "epoch:   0%|          | 0/5 [00:00<?, ?it/s]"
      ]
     },
     "metadata": {},
     "output_type": "display_data"
    },
    {
     "data": {
      "application/vnd.jupyter.widget-view+json": {
       "model_id": "",
       "version_major": 2,
       "version_minor": 0
      },
      "text/plain": [
       "  0%|          | 0/1950 [00:00<?, ?it/s]"
      ]
     },
     "metadata": {},
     "output_type": "display_data"
    },
    {
     "data": {
      "application/vnd.jupyter.widget-view+json": {
       "model_id": "",
       "version_major": 2,
       "version_minor": 0
      },
      "text/plain": [
       "  0%|          | 0/1950 [00:00<?, ?it/s]"
      ]
     },
     "metadata": {},
     "output_type": "display_data"
    },
    {
     "data": {
      "application/vnd.jupyter.widget-view+json": {
       "model_id": "",
       "version_major": 2,
       "version_minor": 0
      },
      "text/plain": [
       "  0%|          | 0/1950 [00:00<?, ?it/s]"
      ]
     },
     "metadata": {},
     "output_type": "display_data"
    },
    {
     "data": {
      "application/vnd.jupyter.widget-view+json": {
       "model_id": "",
       "version_major": 2,
       "version_minor": 0
      },
      "text/plain": [
       "  0%|          | 0/1950 [00:00<?, ?it/s]"
      ]
     },
     "metadata": {},
     "output_type": "display_data"
    },
    {
     "data": {
      "application/vnd.jupyter.widget-view+json": {
       "model_id": "",
       "version_major": 2,
       "version_minor": 0
      },
      "text/plain": [
       "  0%|          | 0/1950 [00:00<?, ?it/s]"
      ]
     },
     "metadata": {},
     "output_type": "display_data"
    },
    {
     "name": "stdout",
     "output_type": "stream",
     "text": [
      "13\n"
     ]
    },
    {
     "data": {
      "application/vnd.jupyter.widget-view+json": {
       "model_id": "bc82a306d475470182f3f80ea84be4e2",
       "version_major": 2,
       "version_minor": 0
      },
      "text/plain": [
       "epoch:   0%|          | 0/5 [00:00<?, ?it/s]"
      ]
     },
     "metadata": {},
     "output_type": "display_data"
    },
    {
     "data": {
      "application/vnd.jupyter.widget-view+json": {
       "model_id": "",
       "version_major": 2,
       "version_minor": 0
      },
      "text/plain": [
       "  0%|          | 0/1950 [00:00<?, ?it/s]"
      ]
     },
     "metadata": {},
     "output_type": "display_data"
    },
    {
     "data": {
      "application/vnd.jupyter.widget-view+json": {
       "model_id": "",
       "version_major": 2,
       "version_minor": 0
      },
      "text/plain": [
       "  0%|          | 0/1950 [00:00<?, ?it/s]"
      ]
     },
     "metadata": {},
     "output_type": "display_data"
    },
    {
     "data": {
      "application/vnd.jupyter.widget-view+json": {
       "model_id": "",
       "version_major": 2,
       "version_minor": 0
      },
      "text/plain": [
       "  0%|          | 0/1950 [00:00<?, ?it/s]"
      ]
     },
     "metadata": {},
     "output_type": "display_data"
    },
    {
     "data": {
      "application/vnd.jupyter.widget-view+json": {
       "model_id": "",
       "version_major": 2,
       "version_minor": 0
      },
      "text/plain": [
       "  0%|          | 0/1950 [00:00<?, ?it/s]"
      ]
     },
     "metadata": {},
     "output_type": "display_data"
    },
    {
     "data": {
      "application/vnd.jupyter.widget-view+json": {
       "model_id": "",
       "version_major": 2,
       "version_minor": 0
      },
      "text/plain": [
       "  0%|          | 0/1950 [00:00<?, ?it/s]"
      ]
     },
     "metadata": {},
     "output_type": "display_data"
    }
   ],
   "source": [
    "for n in [2, 3]:\n",
    "    log_dir = 'logs/exp 2.4 - num lin layers/num layers = ' + str(n)\n",
    "    make_experiment(log_dir, num_lin_layers=n)"
   ]
  },
  {
   "cell_type": "markdown",
   "id": "e740ba25",
   "metadata": {},
   "source": [
    "### 2.5 Добавление Batchnorm"
   ]
  },
  {
   "cell_type": "code",
   "execution_count": 21,
   "id": "fc06390f",
   "metadata": {},
   "outputs": [
    {
     "name": "stdout",
     "output_type": "stream",
     "text": [
      "13\n"
     ]
    },
    {
     "data": {
      "application/vnd.jupyter.widget-view+json": {
       "model_id": "1ed3699b93e741f79e5e8c86c0032b57",
       "version_major": 2,
       "version_minor": 0
      },
      "text/plain": [
       "epoch:   0%|          | 0/5 [00:00<?, ?it/s]"
      ]
     },
     "metadata": {},
     "output_type": "display_data"
    },
    {
     "data": {
      "application/vnd.jupyter.widget-view+json": {
       "model_id": "",
       "version_major": 2,
       "version_minor": 0
      },
      "text/plain": [
       "  0%|          | 0/1950 [00:00<?, ?it/s]"
      ]
     },
     "metadata": {},
     "output_type": "display_data"
    },
    {
     "data": {
      "application/vnd.jupyter.widget-view+json": {
       "model_id": "",
       "version_major": 2,
       "version_minor": 0
      },
      "text/plain": [
       "  0%|          | 0/1950 [00:00<?, ?it/s]"
      ]
     },
     "metadata": {},
     "output_type": "display_data"
    },
    {
     "data": {
      "application/vnd.jupyter.widget-view+json": {
       "model_id": "",
       "version_major": 2,
       "version_minor": 0
      },
      "text/plain": [
       "  0%|          | 0/1950 [00:00<?, ?it/s]"
      ]
     },
     "metadata": {},
     "output_type": "display_data"
    },
    {
     "data": {
      "application/vnd.jupyter.widget-view+json": {
       "model_id": "",
       "version_major": 2,
       "version_minor": 0
      },
      "text/plain": [
       "  0%|          | 0/1950 [00:00<?, ?it/s]"
      ]
     },
     "metadata": {},
     "output_type": "display_data"
    },
    {
     "data": {
      "application/vnd.jupyter.widget-view+json": {
       "model_id": "",
       "version_major": 2,
       "version_minor": 0
      },
      "text/plain": [
       "  0%|          | 0/1950 [00:00<?, ?it/s]"
      ]
     },
     "metadata": {},
     "output_type": "display_data"
    }
   ],
   "source": [
    "log_dir = 'logs/exp 2.5 - batchnorm/'\n",
    "make_experiment(log_dir, batchnorm=True)"
   ]
  },
  {
   "cell_type": "markdown",
   "id": "934f0e99",
   "metadata": {},
   "source": [
    "### 2.6 Добавление Dropout"
   ]
  },
  {
   "cell_type": "code",
   "execution_count": 22,
   "id": "38ad1792",
   "metadata": {},
   "outputs": [
    {
     "name": "stdout",
     "output_type": "stream",
     "text": [
      "13\n"
     ]
    },
    {
     "data": {
      "application/vnd.jupyter.widget-view+json": {
       "model_id": "80ac4c17a6e4404ea2bc5aaf02d7a455",
       "version_major": 2,
       "version_minor": 0
      },
      "text/plain": [
       "epoch:   0%|          | 0/5 [00:00<?, ?it/s]"
      ]
     },
     "metadata": {},
     "output_type": "display_data"
    },
    {
     "data": {
      "application/vnd.jupyter.widget-view+json": {
       "model_id": "",
       "version_major": 2,
       "version_minor": 0
      },
      "text/plain": [
       "  0%|          | 0/1950 [00:00<?, ?it/s]"
      ]
     },
     "metadata": {},
     "output_type": "display_data"
    },
    {
     "data": {
      "application/vnd.jupyter.widget-view+json": {
       "model_id": "",
       "version_major": 2,
       "version_minor": 0
      },
      "text/plain": [
       "  0%|          | 0/1950 [00:00<?, ?it/s]"
      ]
     },
     "metadata": {},
     "output_type": "display_data"
    },
    {
     "data": {
      "application/vnd.jupyter.widget-view+json": {
       "model_id": "",
       "version_major": 2,
       "version_minor": 0
      },
      "text/plain": [
       "  0%|          | 0/1950 [00:00<?, ?it/s]"
      ]
     },
     "metadata": {},
     "output_type": "display_data"
    },
    {
     "data": {
      "application/vnd.jupyter.widget-view+json": {
       "model_id": "",
       "version_major": 2,
       "version_minor": 0
      },
      "text/plain": [
       "  0%|          | 0/1950 [00:00<?, ?it/s]"
      ]
     },
     "metadata": {},
     "output_type": "display_data"
    },
    {
     "data": {
      "application/vnd.jupyter.widget-view+json": {
       "model_id": "",
       "version_major": 2,
       "version_minor": 0
      },
      "text/plain": [
       "  0%|          | 0/1950 [00:00<?, ?it/s]"
      ]
     },
     "metadata": {},
     "output_type": "display_data"
    }
   ],
   "source": [
    "log_dir = 'logs/exp 2.6 - dropout/'\n",
    "make_experiment(log_dir, dropout=True)"
   ]
  },
  {
   "cell_type": "markdown",
   "id": "9c44c214",
   "metadata": {},
   "source": [
    "## 3. Итоги"
   ]
  },
  {
   "cell_type": "markdown",
   "id": "d27f2485",
   "metadata": {},
   "source": [
    "Базовая конфигурация сети педставлена в пункте 2.0. Она состоит из одного сверточного и одного линейного слоев и не содержит batchnorm и dropout слоев. В каждом эксперименте изменялся лишь один рассматриваемый параметр конфигурации, а остальные оставались неизменными, чтобы выявить влияние этого конкретного параметра на качество работы модели. Все эксперименты доступны в интерфейсе tensorboard.\n",
    "\n",
    "Выводы о влиянии каждого из параметров конфигурации на перфоманс сети:\n",
    "\n",
    "* Convolutional kernel size. Рассматриваемые значения: 2, 3, 4, 5. Наиболеее оптимальный размер ядра оказался равен 4, метрики качества в случае kernel size = 3 - хуже, но незначительно. Наихудший результат модель показала при ядрах размеров 2 и 5. Слишком маленький и слишком большой размеры ядра могут приводить к невозможности распознавать большие и маленькие графические паттерны соответственно. Для каждой пары архитектура/датасет имеет смысл подбирать оптимальное значение этого параметра, если позволяют вычислительные и временные ресурсы.\n",
    "\n",
    "\n",
    "* Pooling kernel size. Рассматриваемые значения: 2, 3, 4, 5. Лосс на тесте оказался приблизительно одинаковым во всех экспериментах, но метрики качества значительно упали при увеличении размера ядра до 4 и 5. Падение качества ожидаемо и происходит из-за значительной потери информации об исходном изображении при слишком больших размерах ядра пуллинга. Нужен баланс между сжатием и информации и ее полнотой. \n",
    "\n",
    "\n",
    "* Number of convolutional layers. Рассматриваемые значения: 1, 2, 3. При добавлении каждого нового сверточного слоя перфоманс модели падал, но это не означает, что сверточные сети с большим количеством сверточных слоев работают хуже. Стоить учитывать специфику датасета - размер картинок довольно малеьнький, а изображения символов занимают почти всю площадь картинки. Каждый новый сверточный слой значительно сжимал информацию, так как содержал в себе и обычную свертку и пуллинг. Но для данного датасета такое сжатие привело лишь к потере данных. Если бы размер изображений был больше, а распознаваемые объекты были бы незначительного размера по сравнению с размером изображения, то дополнительные сверточные слои повысили бы качество работы модели.\n",
    "\n",
    "\n",
    "* Number of linear layers. Рассматриваемые значения: 1, 2, 3. Перфоманс модели оказался незначительно лучше при использовании классификаторной части из двух линейных слоев, нежели чем из одного слоя. При трех слоях и, вероятно, что при большем количестве тоже, качество работы модели падает. Это может быть связано с двумя факторами: с переобучением - запоминанием  трейн датасета и неудовлетворительным перфомансом на тесте и с затуханием градиентов. \n",
    "\n",
    "\n",
    "* Batchnorm. Рассматриваемые варианты: сверточный слой содержит/не содержит batchnorm. Качество сети возросло при добавлении нормализационного слоя. Результат ожидаемый и в большинстве случаев, как показывают многие исследования, добавление batchnorm ведет к улучшению сети.\n",
    "\n",
    "\n",
    "* Dropout. Рассматриваемые варианты: сверточный слой содержит/не содержит dropout. Качество сети упало при добавлении дропаут слоя. Результат не вполне ожидаемый. Дропаут слой делает сеть более устойчивой, форсируя нейроны обучаться замещать друг друга. Для данного датасета/конфигурации такие возможности сети оказалоись избыточными, но во многих случаев, они могут улучшить результаты.\n"
   ]
  },
  {
   "cell_type": "code",
   "execution_count": 24,
   "id": "b2c50da4",
   "metadata": {},
   "outputs": [
    {
     "data": {
      "text/plain": [
       "Reusing TensorBoard on port 6006 (pid 43168), started 0:08:00 ago. (Use '!kill 43168' to kill it.)"
      ]
     },
     "metadata": {},
     "output_type": "display_data"
    },
    {
     "data": {
      "text/html": [
       "\n",
       "      <iframe id=\"tensorboard-frame-6ce23d8e55fba1dc\" width=\"100%\" height=\"800\" frameborder=\"0\">\n",
       "      </iframe>\n",
       "      <script>\n",
       "        (function() {\n",
       "          const frame = document.getElementById(\"tensorboard-frame-6ce23d8e55fba1dc\");\n",
       "          const url = new URL(\"/\", window.location);\n",
       "          const port = 6006;\n",
       "          if (port) {\n",
       "            url.port = port;\n",
       "          }\n",
       "          frame.src = url;\n",
       "        })();\n",
       "      </script>\n",
       "    "
      ],
      "text/plain": [
       "<IPython.core.display.HTML object>"
      ]
     },
     "metadata": {},
     "output_type": "display_data"
    }
   ],
   "source": [
    "%tensorboard --logdir='logs/'"
   ]
  }
 ],
 "metadata": {
  "kernelspec": {
   "display_name": "Python 3 (ipykernel)",
   "language": "python",
   "name": "python3"
  },
  "language_info": {
   "codemirror_mode": {
    "name": "ipython",
    "version": 3
   },
   "file_extension": ".py",
   "mimetype": "text/x-python",
   "name": "python",
   "nbconvert_exporter": "python",
   "pygments_lexer": "ipython3",
   "version": "3.9.13"
  }
 },
 "nbformat": 4,
 "nbformat_minor": 5
}
